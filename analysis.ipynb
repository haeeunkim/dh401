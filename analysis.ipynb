{
 "cells": [
  {
   "cell_type": "markdown",
   "metadata": {},
   "source": []
  },
  {
   "cell_type": "markdown",
   "metadata": {},
   "source": [
    "## 3. Data format"
   ]
  },
  {
   "cell_type": "markdown",
   "metadata": {},
   "source": [
    "Which analyses or experiments did you perform and what are the results? Choose suitable visualizations to show your results.\n",
    "\n",
    "How do the results relate to your hypotheses?\n",
    "\n",
    "Did you find interesting or unexpected things? How do they influence your project?\n",
    "\n",
    "What are problems that you encountered? How could you plan to deal with them?\n",
    "\n",
    "\n",
    "Do the analyses and results make sense? How can they be interpreted?\n",
    "\n",
    "What are the next steps in the project?\n",
    "\n",
    "Which aspects of your findings do you want to put in the center?\n",
    "\n",
    "Which ones do you decide not to pursue further?"
   ]
  },
  {
   "cell_type": "code",
   "execution_count": 1,
   "metadata": {},
   "outputs": [],
   "source": [
    "import pandas as pd\n",
    "import matplotlib.pyplot as plt\n",
    "import numpy as np"
   ]
  },
  {
   "cell_type": "code",
   "execution_count": 192,
   "metadata": {},
   "outputs": [],
   "source": [
    "# load sample data\n",
    "sample_dir = 'data/anglophone/'\n",
    "\n",
    "gangsta_files = ['50Cent_CandyShop.rap',\n",
    "'50Cent_DiscoInferno.rap',\n",
    "'50Cent_InDaClub.rap',\n",
    "'50Cent_JustALilBit.rap',\n",
    "'50Cent_P.I.M.P..rap',\n",
    "'Eminem_TheWayIAm.rap',\n",
    "'JayZ_CanIGetA.rap',\n",
    "'JayZ_HolyGrail.rap',\n",
    "'JayZ_NiggasInParis.rap',\n",
    "'KanyeWest_Clique.rap',\n",
    "'KanyeWest_Mercy.rap',\n",
    "'LilWayne_AMilli.rap',\n",
    "'LilWayne_GotMoney.rap',\n",
    "'LilWayne_Lollipop.rap',\n",
    "'Ludacris_HowLow.rap',\n",
    "'Ludacris_MoveBitch.rap',\n",
    "'Ludacris_StandUp.rap',\n",
    "'Ludacris_WhatsYourFantasy.rap',\n",
    "'Mims_ThisIsWhyImHot.rap',\n",
    "'MissyElliott_WorkIt.rap',\n",
    "'Nelly_Grillz.rap',\n",
    "'SnoopDogg_LayLow.rap',\n",
    "'SnoopDogg_Woof.rap',\n",
    "'T.I._LiveYourLife.rap',\n",
    "'T.I._WhatYouKnow.rap',\n",
    "'TerrorSquad_LeanBack.rap']\n",
    "\n",
    "oldschool_files=[\n",
    "'2pac_CaliforniaLove.rap',\n",
    "'2pac_HowDoUWantIt.rap',\n",
    "'2pac_IGetAround.rap',\n",
    "'2pac_PapazSong.rap',\n",
    "'2pac_SoManyTears.txt',\n",
    "'DrDre_NuthinButAGThang.rap',\n",
    "'Eminem_RockBottom.rap',\n",
    "'Eminem_TheRealSlimShady.rap',\n",
    "'JayZ_CantKnockTheHustle.rap',\n",
    "'KrisKross_Jump.rap',\n",
    "'LLCoolJ_HeyLover.rap',\n",
    "'LLCoolJ_INeedLove.rap',\n",
    "'NotoriousBIG_BigPoppa.rap',\n",
    "'NotoriousBIG_GoingBackToCali.rap',\n",
    "'NotoriousBIG_Hypnotize.rap',\n",
    "'NotoriousBIG_Juicy.rap',\n",
    "'NotoriousBIG_MoMoneyMoProblems.rap',\n",
    "'NotoriousBIG_OneMoreChance.rap',\n",
    "'NotoriousBIG_SkysTheLimit.rap',\n",
    "'Run-D.M.C._DownWithTheKing.rap',\n",
    "'SnoopDogg_GinAndJuice.rap',\n",
    "'WarrenG_Regulate.rap',\n",
    "'WillSmith_GettinJiggyWitIt.rap',\n",
    "'WillSmith_Summertime.rap',\n",
    "'WillSmith_WildWildWest.rap',\n",
    "'Wreckx-N-Effect_RumpShaker.rap',\n",
    "]"
   ]
  },
  {
   "cell_type": "code",
   "execution_count": 328,
   "metadata": {},
   "outputs": [],
   "source": [
    "def _convert_recip(string, ref):\n",
    "    if '=' in string:\n",
    "        return string\n",
    "    else:    \n",
    "        dots = string.count('.')\n",
    "        num = int(string.strip('.'))\n",
    "        coef = 1\n",
    "        for d in range(dots):\n",
    "            coef += 1 / (2**(d+1))\n",
    "\n",
    "        return coef * ref / num\n",
    "        \n",
    "\n",
    "class HumdrumSummary():\n",
    "    def __init__(self, sample_path):\n",
    "        raw_df =  pd.read_table(sample_path)\n",
    "        \n",
    "        df = raw_df[raw_df['**recip'].apply(lambda x: '!' not in x)]\n",
    "        \n",
    "        meter = tuple(map(lambda x: int(x), \\\n",
    "                         df['**recip'][df['**recip'].apply(lambda x: '/' in x)].unique()[0].strip('*M').split('/')))\n",
    "        tempo = int(df['**recip'][df['**recip'].apply(lambda x: '*MM' in x)].unique()[0].strip('*MM'))             \n",
    "\n",
    "        \n",
    "    \n",
    "        df = df[df['**recip'].apply(lambda x: x[0] in '0123456789=')]\n",
    "        df['**recip'] = df['**recip'].apply(lambda x: _convert_recip(string=x,ref=meter[1]))             \n",
    "        \n",
    "        \n",
    "        if (df['**recip'] == '=0').any():\n",
    "\n",
    "            pickup_start = df[df['**recip'].apply(lambda x: x == '=0')].index\n",
    "            pickup_end = df[df['**recip'].apply(lambda x: x == '=1')].index\n",
    "\n",
    "            for i, idx in enumerate(pickup_start):\n",
    "                snippet = df.loc[idx+1:pickup_end[i]-1]\n",
    "                #rest = meter[0] - snippet['**recip'][snippet['**lyrics']!='.'].sum()\n",
    "                snippet['**recip'][snippet['**lyrics']=='.'] = 0\n",
    "                rest = meter[0] - snippet['**recip'][snippet['**lyrics']!='.'].sum()\n",
    "                snippet['**recip'].at[idx+1] = rest\n",
    "        \n",
    "        df = df[df['**recip'].apply(lambda x: type(x) != str)]\n",
    "        df = df[df['**recip'] != 0]\n",
    "        df['cum_recip'] = df['**recip'].cumsum()-0.1\n",
    "\n",
    "    \n",
    "        self.meter = meter\n",
    "        self.tempo = tempo\n",
    "        self.df = df\n",
    "        self.raw_df = raw_df\n",
    "        self.clean_df = df[df['**recip'].apply(lambda x: type(x) == float)]\n",
    "\n",
    "        \n",
    "        \n",
    "        self.syl_onsets = df[df['**lyrics']!='.'].shape[0]\n",
    "        self.syllabic_rate = tempo / (df['**recip'][df['**lyrics']!='.'].mean() * 60) # or total number of measures, divided by.. \n",
    "        \n",
    "        self.measures = raw_df\n",
    "\n",
    "\n",
    "        \n",
    "        \n",
    "    \n",
    "    def phrase_based(self):\n",
    "        # according to the description on the website and our common knowledge of interpreting the lyrics,\n",
    "        # we concluded that only level 3,4 break are meaningful.\n",
    "        sample_clean = self.df\n",
    "#        sample_clean = sample_clean[sample_clean['**lyrics']!='.']\n",
    "\n",
    "        breaks_idx = sample_clean[sample_clean['**break'].apply(lambda x: x in ['3','4'])].index\n",
    "        # add closing break point\n",
    "\n",
    "        # create a new dataframe that will show the flowwise analysis on this song\n",
    "        sample_flowwise = pd.DataFrame(columns=['recip','lyric'])\n",
    "\n",
    "\n",
    "        for i in range(breaks_idx.shape[0]-1):\n",
    "            (start, end) = (breaks_idx[i], breaks_idx[i+1])\n",
    "            snippet = sample_clean.loc[start:end-1]\n",
    "            sample_flowwise.at[i,'recip'] = snippet['**recip'].values\n",
    "            sample_flowwise.at[i,'lyric'] = ' '.join(snippet['**lyrics'].values)\n",
    "\n",
    "        maxlen = sample_flowwise.lyric.apply(lambda x: len(x)).max()\n",
    "        pd.set_option('display.max_colwidth', maxlen)\n",
    "        return sample_flowwise\n",
    "    \n",
    "    \n",
    "    \n",
    "    def rest_based(self):\n",
    "        sample_clean = self.clean_df\n",
    "        breaks_idx = sample_clean[sample_clean['**ipa']=='R'].index\n",
    "\n",
    "        sample_flowwise = pd.DataFrame(columns=['recip','lyric'])\n",
    "        for i in range(breaks_idx.shape[0]-1):\n",
    "            (start, end) = (breaks_idx[i], breaks_idx[i+1])\n",
    "            snippet = sample_clean.iloc[start:end-1]\n",
    "            sample_flowwise.at[i,'recip'] = snippet['**recip'].values\n",
    "            sample_flowwise.at[i,'lyric'] = ' '.join(snippet['**lyrics'].values)\n",
    "\n",
    "            # convert into string, so that we can easily examine if the encoding is done correctly (we will check this with each song)\n",
    "        maxlen = sample_flowwise.recip.apply(lambda x: len(x)).max()\n",
    "        pd.set_option('display.max_colwidth', maxlen)\n",
    "        return sample_flowwise\n",
    "\n",
    "    \n",
    "#    def rhyme_position_dist(self)\n",
    "    # self.df_norm\n",
    "    # get the '=0' line and =1 line -> pad the first \n",
    "        \n",
    "\n",
    "    \n",
    "        \n",
    "        \n",
    "    \n",
    "        \n",
    "def flowwise_visualize(flowwise_df):\n",
    "    sample = flowwise_df\n",
    "    maxlen = sample.recip.apply(lambda x: len(x)).max()\n",
    "    sample.recip = sample.recip.apply(lambda x: np.concatenate([x, [0]* (maxlen - len(x))]))\n",
    "    s = pd.DataFrame(item for item in sample.recip)\n",
    "\n",
    "    viz = s.plot(kind='bar', stacked=True, legend=None)\n",
    "    plt.xticks([])\n",
    "    return viz\n",
    "    \n",
    "    "
   ]
  },
  {
   "cell_type": "code",
   "execution_count": 260,
   "metadata": {},
   "outputs": [
    {
     "data": {
      "text/plain": [
       "'data/anglophone/Gangsta/TerrorSquad_LeanBack.rap'"
      ]
     },
     "execution_count": 260,
     "metadata": {},
     "output_type": "execute_result"
    }
   ],
   "source": [
    "sample_path"
   ]
  },
  {
   "cell_type": "code",
   "execution_count": 287,
   "metadata": {},
   "outputs": [
    {
     "name": "stderr",
     "output_type": "stream",
     "text": [
      "/Users/haeeunkim/anaconda3/lib/python3.7/site-packages/ipykernel_launcher.py:2: SettingWithCopyWarning: \n",
      "A value is trying to be set on a copy of a slice from a DataFrame\n",
      "\n",
      "See the caveats in the documentation: http://pandas.pydata.org/pandas-docs/stable/user_guide/indexing.html#returning-a-view-versus-a-copy\n",
      "  \n"
     ]
    },
    {
     "data": {
      "text/plain": [
       "49.0"
      ]
     },
     "execution_count": 287,
     "metadata": {},
     "output_type": "execute_result"
    }
   ],
   "source": [
    "sample_path\n",
    "sample = HumdrumSummary(sample_path)\n",
    "df = sample.df\n",
    "\n",
    "df['**recip'].sum()/4"
   ]
  },
  {
   "cell_type": "code",
   "execution_count": 327,
   "metadata": {},
   "outputs": [
    {
     "data": {
      "text/plain": [
       "5         2.9\n",
       "6        3.15\n",
       "7         3.4\n",
       "8        3.65\n",
       "9         3.9\n",
       "        ...  \n",
       "661    194.65\n",
       "662     194.9\n",
       "663     195.4\n",
       "664    195.65\n",
       "665     195.9\n",
       "Name: cum_recip, Length: 608, dtype: object"
      ]
     },
     "execution_count": 327,
     "metadata": {},
     "output_type": "execute_result"
    }
   ],
   "source": [
    "df['cum_recip']-0.1"
   ]
  },
  {
   "cell_type": "code",
   "execution_count": null,
   "metadata": {},
   "outputs": [],
   "source": [
    "df"
   ]
  },
  {
   "cell_type": "code",
   "execution_count": null,
   "metadata": {},
   "outputs": [],
   "source": [
    "flowwise_visualize(sample.phrase_based())"
   ]
  },
  {
   "cell_type": "code",
   "execution_count": null,
   "metadata": {},
   "outputs": [],
   "source": [
    "sample.df[sample.df['**lyrics']!='R']"
   ]
  },
  {
   "cell_type": "code",
   "execution_count": 239,
   "metadata": {},
   "outputs": [
    {
     "name": "stderr",
     "output_type": "stream",
     "text": [
      "/Users/haeeunkim/anaconda3/lib/python3.7/site-packages/ipykernel_launcher.py:6: SettingWithCopyWarning: \n",
      "A value is trying to be set on a copy of a slice from a DataFrame\n",
      "\n",
      "See the caveats in the documentation: http://pandas.pydata.org/pandas-docs/stable/user_guide/indexing.html#returning-a-view-versus-a-copy\n",
      "  \n"
     ]
    }
   ],
   "source": [
    "oldschool_error = []\n",
    "summary_os = {'tempo':[],'meter':[], 'syl_onsets':[], 'syllabic_rate':[]}\n",
    "for i, f in enumerate(oldschool_files):\n",
    "    try:\n",
    "        sample_path = sample_dir + 'Old School/' + f\n",
    "        sample = HumdrumSummary(sample_path)\n",
    "        summary_os['tempo'].append(sample.tempo)\n",
    "        summary_os['meter'].append(sample.meter)\n",
    "        summary_os['syl_onsets'].append(sample.syl_onsets)\n",
    "        summary_os['syllabic_rate'].append(sample.syllabic_rate)\n",
    "        \n",
    "    except:\n",
    "        error.append(sample_path)\n",
    "        pass\n"
   ]
  },
  {
   "cell_type": "code",
   "execution_count": 321,
   "metadata": {},
   "outputs": [
    {
     "data": {
      "image/png": "[encoded data removed]",
      "text/plain": [
       "<Figure size 432x288 with 1 Axes>"
      ]
     },
     "metadata": {
      "needs_background": "light"
     },
     "output_type": "display_data"
    }
   ],
   "source": [
    "\n",
    "plt.hist(df[df['**rhyme']!='.'].cum_recip.apply(lambda x: x % 4), bins=8)\n",
    "plt.show()\n"
   ]
  },
  {
   "cell_type": "code",
   "execution_count": 329,
   "metadata": {},
   "outputs": [
    {
     "name": "stdout",
     "output_type": "stream",
     "text": [
      "data/anglophone/Gangsta/50Cent_CandyShop.rap\n"
     ]
    },
    {
     "name": "stderr",
     "output_type": "stream",
     "text": [
      "/Users/haeeunkim/anaconda3/lib/python3.7/site-packages/ipykernel_launcher.py:6: SettingWithCopyWarning: \n",
      "A value is trying to be set on a copy of a slice from a DataFrame\n",
      "\n",
      "See the caveats in the documentation: http://pandas.pydata.org/pandas-docs/stable/user_guide/indexing.html#returning-a-view-versus-a-copy\n",
      "  \n"
     ]
    },
    {
     "data": {
      "image/png": "[encoded data removed]",
      "text/plain": [
       "<Figure size 432x288 with 1 Axes>"
      ]
     },
     "metadata": {
      "needs_background": "light"
     },
     "output_type": "display_data"
    },
    {
     "name": "stdout",
     "output_type": "stream",
     "text": [
      "data/anglophone/Gangsta/50Cent_DiscoInferno.rap\n"
     ]
    },
    {
     "data": {
      "image/png": "[encoded data removed]",
      "text/plain": [
       "<Figure size 432x288 with 1 Axes>"
      ]
     },
     "metadata": {
      "needs_background": "light"
     },
     "output_type": "display_data"
    },
    {
     "name": "stdout",
     "output_type": "stream",
     "text": [
      "data/anglophone/Gangsta/50Cent_InDaClub.rap\n"
     ]
    },
    {
     "data": {
      "image/png": "[encoded data removed]",
      "text/plain": [
       "<Figure size 432x288 with 1 Axes>"
      ]
     },
     "metadata": {
      "needs_background": "light"
     },
     "output_type": "display_data"
    },
    {
     "name": "stdout",
     "output_type": "stream",
     "text": [
      "data/anglophone/Gangsta/50Cent_P.I.M.P..rap\n"
     ]
    },
    {
     "data": {
      "image/png": "[encoded data removed]",
      "text/plain": [
       "<Figure size 432x288 with 1 Axes>"
      ]
     },
     "metadata": {
      "needs_background": "light"
     },
     "output_type": "display_data"
    },
    {
     "name": "stdout",
     "output_type": "stream",
     "text": [
      "data/anglophone/Gangsta/Eminem_TheWayIAm.rap\n"
     ]
    },
    {
     "data": {
      "image/png": "[encoded data removed]",
      "text/plain": [
       "<Figure size 432x288 with 1 Axes>"
      ]
     },
     "metadata": {
      "needs_background": "light"
     },
     "output_type": "display_data"
    },
    {
     "name": "stdout",
     "output_type": "stream",
     "text": [
      "data/anglophone/Gangsta/JayZ_CanIGetA.rap\n"
     ]
    },
    {
     "data": {
      "image/png": "[encoded data removed]",
      "text/plain": [
       "<Figure size 432x288 with 1 Axes>"
      ]
     },
     "metadata": {
      "needs_background": "light"
     },
     "output_type": "display_data"
    },
    {
     "name": "stdout",
     "output_type": "stream",
     "text": [
      "data/anglophone/Gangsta/JayZ_HolyGrail.rap\n"
     ]
    },
    {
     "data": {
      "image/png": "[encoded data removed]",
      "text/plain": [
       "<Figure size 432x288 with 1 Axes>"
      ]
     },
     "metadata": {
      "needs_background": "light"
     },
     "output_type": "display_data"
    },
    {
     "name": "stdout",
     "output_type": "stream",
     "text": [
      "data/anglophone/Gangsta/KanyeWest_Clique.rap\n"
     ]
    },
    {
     "data": {
      "image/png": "[encoded data removed]",
      "text/plain": [
       "<Figure size 432x288 with 1 Axes>"
      ]
     },
     "metadata": {
      "needs_background": "light"
     },
     "output_type": "display_data"
    },
    {
     "name": "stdout",
     "output_type": "stream",
     "text": [
      "data/anglophone/Gangsta/KanyeWest_Mercy.rap\n"
     ]
    },
    {
     "data": {
      "image/png": "[encoded data removed]",
      "text/plain": [
       "<Figure size 432x288 with 1 Axes>"
      ]
     },
     "metadata": {
      "needs_background": "light"
     },
     "output_type": "display_data"
    },
    {
     "name": "stdout",
     "output_type": "stream",
     "text": [
      "data/anglophone/Gangsta/LilWayne_GotMoney.rap\n"
     ]
    },
    {
     "data": {
      "image/png": "[encoded data removed]",
      "text/plain": [
       "<Figure size 432x288 with 1 Axes>"
      ]
     },
     "metadata": {
      "needs_background": "light"
     },
     "output_type": "display_data"
    },
    {
     "name": "stdout",
     "output_type": "stream",
     "text": [
      "data/anglophone/Gangsta/LilWayne_Lollipop.rap\n"
     ]
    },
    {
     "data": {
      "image/png": "[encoded data removed]",
      "text/plain": [
       "<Figure size 432x288 with 1 Axes>"
      ]
     },
     "metadata": {
      "needs_background": "light"
     },
     "output_type": "display_data"
    },
    {
     "name": "stdout",
     "output_type": "stream",
     "text": [
      "data/anglophone/Gangsta/Ludacris_HowLow.rap\n"
     ]
    },
    {
     "data": {
      "image/png": "[encoded data removed]",
      "text/plain": [
       "<Figure size 432x288 with 1 Axes>"
      ]
     },
     "metadata": {
      "needs_background": "light"
     },
     "output_type": "display_data"
    },
    {
     "name": "stdout",
     "output_type": "stream",
     "text": [
      "data/anglophone/Gangsta/Ludacris_MoveBitch.rap\n"
     ]
    },
    {
     "data": {
      "image/png": "[encoded data removed]",
      "text/plain": [
       "<Figure size 432x288 with 1 Axes>"
      ]
     },
     "metadata": {
      "needs_background": "light"
     },
     "output_type": "display_data"
    },
    {
     "name": "stdout",
     "output_type": "stream",
     "text": [
      "data/anglophone/Gangsta/Ludacris_StandUp.rap\n"
     ]
    },
    {
     "data": {
      "image/png": "[encoded data removed]",
      "text/plain": [
       "<Figure size 432x288 with 1 Axes>"
      ]
     },
     "metadata": {
      "needs_background": "light"
     },
     "output_type": "display_data"
    },
    {
     "name": "stdout",
     "output_type": "stream",
     "text": [
      "data/anglophone/Gangsta/Ludacris_WhatsYourFantasy.rap\n"
     ]
    },
    {
     "data": {
      "image/png": "[encoded data removed]",
      "text/plain": [
       "<Figure size 432x288 with 1 Axes>"
      ]
     },
     "metadata": {
      "needs_background": "light"
     },
     "output_type": "display_data"
    },
    {
     "name": "stdout",
     "output_type": "stream",
     "text": [
      "data/anglophone/Gangsta/Mims_ThisIsWhyImHot.rap\n"
     ]
    },
    {
     "data": {
      "image/png": "[encoded data removed]",
      "text/plain": [
       "<Figure size 432x288 with 1 Axes>"
      ]
     },
     "metadata": {
      "needs_background": "light"
     },
     "output_type": "display_data"
    },
    {
     "name": "stdout",
     "output_type": "stream",
     "text": [
      "data/anglophone/Gangsta/MissyElliott_WorkIt.rap\n"
     ]
    },
    {
     "data": {
      "image/png": "[encoded data removed]",
      "text/plain": [
       "<Figure size 432x288 with 1 Axes>"
      ]
     },
     "metadata": {
      "needs_background": "light"
     },
     "output_type": "display_data"
    },
    {
     "name": "stdout",
     "output_type": "stream",
     "text": [
      "data/anglophone/Gangsta/Nelly_Grillz.rap\n"
     ]
    },
    {
     "data": {
      "image/png": "[encoded data removed]",
      "text/plain": [
       "<Figure size 432x288 with 1 Axes>"
      ]
     },
     "metadata": {
      "needs_background": "light"
     },
     "output_type": "display_data"
    },
    {
     "name": "stdout",
     "output_type": "stream",
     "text": [
      "data/anglophone/Gangsta/SnoopDogg_LayLow.rap\n"
     ]
    },
    {
     "data": {
      "image/png": "[encoded data removed]",
      "text/plain": [
       "<Figure size 432x288 with 1 Axes>"
      ]
     },
     "metadata": {
      "needs_background": "light"
     },
     "output_type": "display_data"
    },
    {
     "name": "stdout",
     "output_type": "stream",
     "text": [
      "data/anglophone/Gangsta/T.I._WhatYouKnow.rap\n"
     ]
    },
    {
     "data": {
      "image/png": "[encoded data removed]",
      "text/plain": [
       "<Figure size 432x288 with 1 Axes>"
      ]
     },
     "metadata": {
      "needs_background": "light"
     },
     "output_type": "display_data"
    },
    {
     "name": "stdout",
     "output_type": "stream",
     "text": [
      "data/anglophone/Gangsta/TerrorSquad_LeanBack.rap\n"
     ]
    },
    {
     "data": {
      "image/png": "[encoded data removed]",
      "text/plain": [
       "<Figure size 432x288 with 1 Axes>"
      ]
     },
     "metadata": {
      "needs_background": "light"
     },
     "output_type": "display_data"
    },
    {
     "data": {
      "text/plain": [
       "['data/anglophone/Gangsta/50Cent_JustALilBit.rap',\n",
       " 'data/anglophone/Gangsta/JayZ_NiggasInParis.rap',\n",
       " 'data/anglophone/Gangsta/LilWayne_AMilli.rap',\n",
       " 'data/anglophone/Gangsta/SnoopDogg_Woof.rap',\n",
       " 'data/anglophone/Gangsta/T.I._LiveYourLife.rap']"
      ]
     },
     "execution_count": 329,
     "metadata": {},
     "output_type": "execute_result"
    }
   ],
   "source": [
    "gangsta_error = []\n",
    "summary_G = {'tempo':[],'meter':[], 'syl_onsets':[], 'syllabic_rate':[]}\n",
    "for i, f in enumerate(gangsta_files):\n",
    "    try:\n",
    "        sample_path = sample_dir + 'Gangsta/' + f\n",
    "        sample = HumdrumSummary(sample_path)\n",
    "        df = sample.df\n",
    "        summary_G['tempo'].append(sample.tempo)\n",
    "        summary_G['meter'].append(sample.meter)\n",
    "        summary_G['syl_onsets'].append(sample.syl_onsets)\n",
    "        summary_G['syllabic_rate'].append(sample.syllabic_rate)\n",
    "        print(sample_path)\n",
    "        plt.hist(df[df['**rhyme']!='.'].cum_recip.apply(lambda x: x % 4), bins=8)\n",
    "        plt.show()\n",
    "    except:\n",
    "        gangsta_error.append(sample_path)\n",
    "        pass\n",
    "gangsta_error"
   ]
  },
  {
   "cell_type": "code",
   "execution_count": 250,
   "metadata": {},
   "outputs": [
    {
     "name": "stdout",
     "output_type": "stream",
     "text": [
      "tempo\n"
     ]
    },
    {
     "data": {
      "image/png": "[encoded data removed]",
      "text/plain": [
       "<Figure size 432x288 with 1 Axes>"
      ]
     },
     "metadata": {
      "needs_background": "light"
     },
     "output_type": "display_data"
    },
    {
     "data": {
      "image/png": "[encoded data removed]",
      "text/plain": [
       "<Figure size 432x288 with 1 Axes>"
      ]
     },
     "metadata": {
      "needs_background": "light"
     },
     "output_type": "display_data"
    },
    {
     "name": "stdout",
     "output_type": "stream",
     "text": [
      "meter\n"
     ]
    },
    {
     "data": {
      "image/png": "[encoded data removed]",
      "text/plain": [
       "<Figure size 432x288 with 1 Axes>"
      ]
     },
     "metadata": {
      "needs_background": "light"
     },
     "output_type": "display_data"
    },
    {
     "data": {
      "image/png": "[encoded data removed]",
      "text/plain": [
       "<Figure size 432x288 with 1 Axes>"
      ]
     },
     "metadata": {
      "needs_background": "light"
     },
     "output_type": "display_data"
    },
    {
     "name": "stdout",
     "output_type": "stream",
     "text": [
      "syl_onsets\n"
     ]
    },
    {
     "data": {
      "image/png": "[encoded data removed]",
      "text/plain": [
       "<Figure size 432x288 with 1 Axes>"
      ]
     },
     "metadata": {
      "needs_background": "light"
     },
     "output_type": "display_data"
    },
    {
     "data": {
      "image/png": "[encoded data removed]",
      "text/plain": [
       "<Figure size 432x288 with 1 Axes>"
      ]
     },
     "metadata": {
      "needs_background": "light"
     },
     "output_type": "display_data"
    },
    {
     "name": "stdout",
     "output_type": "stream",
     "text": [
      "syllabic_rate\n"
     ]
    },
    {
     "data": {
      "image/png": "[encoded data removed]",
      "text/plain": [
       "<Figure size 432x288 with 1 Axes>"
      ]
     },
     "metadata": {
      "needs_background": "light"
     },
     "output_type": "display_data"
    },
    {
     "data": {
      "image/png": "[encoded data removed]",
      "text/plain": [
       "<Figure size 432x288 with 1 Axes>"
      ]
     },
     "metadata": {
      "needs_background": "light"
     },
     "output_type": "display_data"
    }
   ],
   "source": [
    "for i, summary_key in enumerate(summary_G.keys()):\n",
    "    print(summary_key)\n",
    "    plt.hist(summary_os[summary_key])\n",
    "    plt.show()\n",
    "    plt.hist(summary_G[summary_key])\n",
    "    plt.show()"
   ]
  },
  {
   "cell_type": "code",
   "execution_count": null,
   "metadata": {},
   "outputs": [],
   "source": []
  },
  {
   "cell_type": "code",
   "execution_count": null,
   "metadata": {},
   "outputs": [],
   "source": []
  },
  {
   "cell_type": "code",
   "execution_count": null,
   "metadata": {},
   "outputs": [],
   "source": []
  },
  {
   "cell_type": "code",
   "execution_count": null,
   "metadata": {},
   "outputs": [],
   "source": []
  },
  {
   "cell_type": "code",
   "execution_count": null,
   "metadata": {},
   "outputs": [],
   "source": []
  },
  {
   "cell_type": "code",
   "execution_count": null,
   "metadata": {},
   "outputs": [],
   "source": []
  },
  {
   "cell_type": "code",
   "execution_count": 348,
   "metadata": {},
   "outputs": [],
   "source": []
  },
  {
   "cell_type": "code",
   "execution_count": null,
   "metadata": {},
   "outputs": [],
   "source": []
  },
  {
   "cell_type": "code",
   "execution_count": null,
   "metadata": {},
   "outputs": [],
   "source": []
  },
  {
   "cell_type": "code",
   "execution_count": null,
   "metadata": {},
   "outputs": [],
   "source": []
  },
  {
   "cell_type": "code",
   "execution_count": null,
   "metadata": {},
   "outputs": [],
   "source": []
  },
  {
   "cell_type": "code",
   "execution_count": null,
   "metadata": {},
   "outputs": [],
   "source": []
  },
  {
   "cell_type": "code",
   "execution_count": null,
   "metadata": {},
   "outputs": [],
   "source": []
  },
  {
   "cell_type": "code",
   "execution_count": null,
   "metadata": {},
   "outputs": [],
   "source": []
  },
  {
   "cell_type": "code",
   "execution_count": null,
   "metadata": {},
   "outputs": [],
   "source": []
  },
  {
   "cell_type": "code",
   "execution_count": null,
   "metadata": {},
   "outputs": [],
   "source": [
    "# unused\n",
    "\n",
    "'''\n",
    "\n",
    "\n",
    "\n",
    "def rest_based(self, sample_clean):\n",
    "        breaks_idx = sample_clean[sample_clean['**ipa']=='R'].index\n",
    "        \n",
    "        sample_flowwise = pd.DataFrame(columns=['recip','lyric'])\n",
    "        for i in range(breaks_idx.shape[0]-1):\n",
    "            (start, end) = (breaks_idx[i], breaks_idx[i+1])\n",
    "            snippet = sample_clean.iloc[start:end]\n",
    "            sample_flowwise.at[i,'recip'] = snippet['**recip'].values\n",
    "            sample_flowwise.at[i,'lyric'] = ' '.join(snippet['**lyrics'].values)\n",
    "            \n",
    "            # convert into string, so that we can easily examine if the encoding is done correctly (we will check this with each song)\n",
    "        maxlen = sample_flowwise.lyric.apply(lambda x: len(x)).max()\n",
    "        pd.set_option('display.max_colwidth', maxlen)\n",
    "        return sample_flowwise\n",
    "        \n",
    "        \n",
    "        \n",
    "        \n",
    "'''"
   ]
  }
 ],
 "metadata": {
  "kernelspec": {
   "display_name": "Python 3",
   "language": "python",
   "name": "python3"
  },
  "language_info": {
   "codemirror_mode": {
    "name": "ipython",
    "version": 3
   },
   "file_extension": ".py",
   "mimetype": "text/x-python",
   "name": "python",
   "nbconvert_exporter": "python",
   "pygments_lexer": "ipython3",
   "version": "3.7.4"
  }
 },
 "nbformat": 4,
 "nbformat_minor": 4
}
