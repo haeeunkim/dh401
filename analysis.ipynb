{
 "cells": [
  {
   "cell_type": "markdown",
   "metadata": {},
   "source": []
  },
  {
   "cell_type": "markdown",
   "metadata": {},
   "source": [
    "## 3. Data format"
   ]
  },
  {
   "cell_type": "markdown",
   "metadata": {},
   "source": [
    "Which analyses or experiments did you perform and what are the results? Choose suitable visualizations to show your results.\n",
    "\n",
    "How do the results relate to your hypotheses?\n",
    "\n",
    "Did you find interesting or unexpected things? How do they influence your project?\n",
    "\n",
    "What are problems that you encountered? How could you plan to deal with them?\n",
    "\n",
    "\n",
    "Do the analyses and results make sense? How can they be interpreted?\n",
    "\n",
    "What are the next steps in the project?\n",
    "\n",
    "Which aspects of your findings do you want to put in the center?\n",
    "\n",
    "Which ones do you decide not to pursue further?"
   ]
  },
  {
   "cell_type": "code",
   "execution_count": 1,
   "metadata": {},
   "outputs": [],
   "source": [
    "import pandas as pd\n",
    "import matplotlib.pyplot as plt\n",
    "import numpy as np"
   ]
  },
  {
   "cell_type": "code",
   "execution_count": 192,
   "metadata": {},
   "outputs": [],
   "source": [
    "# load sample data\n",
    "sample_dir = 'data/anglophone/'\n",
    "\n",
    "gangsta_files = ['50Cent_CandyShop.rap',\n",
    "'50Cent_DiscoInferno.rap',\n",
    "'50Cent_InDaClub.rap',\n",
    "'50Cent_JustALilBit.rap',\n",
    "'50Cent_P.I.M.P..rap',\n",
    "'Eminem_TheWayIAm.rap',\n",
    "'JayZ_CanIGetA.rap',\n",
    "'JayZ_HolyGrail.rap',\n",
    "'JayZ_NiggasInParis.rap',\n",
    "'KanyeWest_Clique.rap',\n",
    "'KanyeWest_Mercy.rap',\n",
    "'LilWayne_AMilli.rap',\n",
    "'LilWayne_GotMoney.rap',\n",
    "'LilWayne_Lollipop.rap',\n",
    "'Ludacris_HowLow.rap',\n",
    "'Ludacris_MoveBitch.rap',\n",
    "'Ludacris_StandUp.rap',\n",
    "'Ludacris_WhatsYourFantasy.rap',\n",
    "'Mims_ThisIsWhyImHot.rap',\n",
    "'MissyElliott_WorkIt.rap',\n",
    "'Nelly_Grillz.rap',\n",
    "'SnoopDogg_LayLow.rap',\n",
    "'SnoopDogg_Woof.rap',\n",
    "'T.I._LiveYourLife.rap',\n",
    "'T.I._WhatYouKnow.rap',\n",
    "'TerrorSquad_LeanBack.rap']\n",
    "\n",
    "oldschool_files=[\n",
    "'2pac_CaliforniaLove.rap',\n",
    "'2pac_HowDoUWantIt.rap',\n",
    "'2pac_IGetAround.rap',\n",
    "'2pac_PapazSong.rap',\n",
    "'2pac_SoManyTears.txt',\n",
    "'DrDre_NuthinButAGThang.rap',\n",
    "'Eminem_RockBottom.rap',\n",
    "'Eminem_TheRealSlimShady.rap',\n",
    "'JayZ_CantKnockTheHustle.rap',\n",
    "'KrisKross_Jump.rap',\n",
    "'LLCoolJ_HeyLover.rap',\n",
    "'LLCoolJ_INeedLove.rap',\n",
    "'NotoriousBIG_BigPoppa.rap',\n",
    "'NotoriousBIG_GoingBackToCali.rap',\n",
    "'NotoriousBIG_Hypnotize.rap',\n",
    "'NotoriousBIG_Juicy.rap',\n",
    "'NotoriousBIG_MoMoneyMoProblems.rap',\n",
    "'NotoriousBIG_OneMoreChance.rap',\n",
    "'NotoriousBIG_SkysTheLimit.rap',\n",
    "'Run-D.M.C._DownWithTheKing.rap',\n",
    "'SnoopDogg_GinAndJuice.rap',\n",
    "'WarrenG_Regulate.rap',\n",
    "'WillSmith_GettinJiggyWitIt.rap',\n",
    "'WillSmith_Summertime.rap',\n",
    "'WillSmith_WildWildWest.rap',\n",
    "'Wreckx-N-Effect_RumpShaker.rap',\n",
    "]"
   ]
  },
  {
   "cell_type": "code",
   "execution_count": 589,
   "metadata": {},
   "outputs": [],
   "source": [
    "def _convert_recip(string, ref):\n",
    "    if '=' in string:\n",
    "        return string\n",
    "    else:    \n",
    "        dots = string.count('.')\n",
    "        num = int(string.strip('.'))\n",
    "        coef = 1\n",
    "        for d in range(dots):\n",
    "            coef += 1 / (2**(d+1))\n",
    "\n",
    "        return coef * ref / num\n",
    "        \n",
    "\n",
    "class HumdrumSummary():\n",
    "    def __init__(self, sample_path):\n",
    "        raw_df =  pd.read_table(sample_path)\n",
    "        df = raw_df[raw_df['**recip'].apply(lambda x: '!' not in x)]   \n",
    "        \n",
    "        tempo = int(df['**recip'][df['**recip'].apply(lambda x: '*MM' in x)].unique()[0].strip('*MM')) \n",
    "        meter = tuple(map(lambda x: int(x), \\\n",
    "                         df['**recip'][df['**recip'].apply(lambda x: '/' in x)].unique()[0].strip('*M').split('/')))\n",
    "        \n",
    "    \n",
    "        df = df[df['**recip'].apply(lambda x: x[0] in '0123456789=')]\n",
    "        df['**recip'] = df['**recip'].apply(lambda x: _convert_recip(string=x,ref=meter[1]))             \n",
    "        \n",
    "        pickup = False\n",
    "        \n",
    "        if (df['**recip'] == '=0').any():\n",
    "            pickup = True\n",
    "            pickup_start = df[df['**recip'].apply(lambda x: x == '=0')].index\n",
    "            pickup_end = df[df['**recip'].apply(lambda x: x == '=1')].index\n",
    "\n",
    "            for i, idx in enumerate(pickup_start):\n",
    "                snippet = df.loc[idx+1:pickup_end[i]-1]\n",
    "                snippet['**recip'][snippet['**lyrics']=='.'] = 0\n",
    "                rest = meter[0] - snippet['**recip'][snippet['**lyrics']!='.'].sum()\n",
    "                snippet['**recip'].at[idx+1] = rest\n",
    "        \n",
    "        df = df[df['**recip'].apply(lambda x: type(x) != str)]\n",
    "        df = df[df['**recip'] != 0]\n",
    "        df['cum_recip'] = df['**recip'].cumsum()\n",
    "        df['breakpoints'] = df['cum_recip'][df['**break'].apply(lambda x: x in ['3','4'])].apply(lambda x: np.floor((x-df['**recip'].min()/4)%4))\n",
    "        \n",
    "        self.pickup = pickup\n",
    "        self.measure = df['**recip'].sum() / meter[0]\n",
    "        self.meter = meter\n",
    "        self.tempo = tempo\n",
    "        self.df = df\n",
    "        self.raw_df = raw_df\n",
    "        self.clean_df = df[df['**recip'].apply(lambda x: type(x) == float)]        \n",
    "        self.syl_onsets = df[df['**lyrics']!='.'].shape[0]\n",
    "        self.syllabic_rate = 60 / (tempo * df['**recip'][df['**lyrics']!='.'].mean()) # or total number of measures, divided by..         \n",
    "        self.rhyme = df[df['**rhyme']!='.'].cum_recip.apply(lambda x: (x-df['**recip'].min()/4)%4)\n",
    "        self.MC = sample_path.split('/')[-1].split('_')[0]\n",
    "        self.breakpoints = df['breakpoints']\n",
    "\n",
    "\n",
    "        \n",
    "        \n",
    "    \n",
    "    def phrase_based(self, clean_rest=False):\n",
    "        # according to the description on the website and our common knowledge of interpreting the lyrics,\n",
    "        # we concluded that only level 3,4 break are meaningful.\n",
    "        sample_clean = self.df\n",
    "        if clean_rest:\n",
    "            sample_clean = sample_clean[sample_clean['**lyrics']!='.']\n",
    "\n",
    "        breaks_idx = sample_clean[sample_clean['**break'].apply(lambda x: x in ['3','4'])].index\n",
    "        # add closing break point\n",
    "\n",
    "        # create a new dataframe that will show the flowwise analysis on this song\n",
    "        sample_flowwise = pd.DataFrame(columns=['recip','lyric'])\n",
    "\n",
    "\n",
    "        for i in range(breaks_idx.shape[0]-1):\n",
    "            (start, end) = (breaks_idx[i], breaks_idx[i+1])\n",
    "            snippet = sample_clean.loc[start:end-1]\n",
    "            sample_flowwise.at[i,'recip'] = snippet['**recip'].values\n",
    "            sample_flowwise.at[i,'lyric'] = ' '.join(snippet['**lyrics'].values)\n",
    "\n",
    "        maxlen = sample_flowwise.lyric.apply(lambda x: len(x)).max()\n",
    "        pd.set_option('display.max_colwidth', maxlen)\n",
    "        return sample_flowwise\n",
    "    \n",
    "        \n",
    "def flowwise_visualize(flowwise_df):\n",
    "    sample = flowwise_df\n",
    "    maxlen = sample.recip.apply(lambda x: len(x)).max()\n",
    "    sample.recip = sample.recip.apply(lambda x: np.concatenate([x, [0]* (maxlen - len(x))]))\n",
    "    s = pd.DataFrame(item for item in sample.recip)\n",
    "\n",
    "    viz = s.plot(kind='bar', stacked=True, legend=None)\n",
    "    plt.xticks([])\n",
    "    return viz\n",
    "    \n",
    "    "
   ]
  },
  {
   "cell_type": "code",
   "execution_count": null,
   "metadata": {},
   "outputs": [],
   "source": []
  },
  {
   "cell_type": "code",
   "execution_count": 618,
   "metadata": {},
   "outputs": [
    {
     "name": "stderr",
     "output_type": "stream",
     "text": [
      "/Users/haeeunkim/anaconda3/lib/python3.7/site-packages/ipykernel_launcher.py:2: SettingWithCopyWarning: \n",
      "A value is trying to be set on a copy of a slice from a DataFrame\n",
      "\n",
      "See the caveats in the documentation: http://pandas.pydata.org/pandas-docs/stable/user_guide/indexing.html#returning-a-view-versus-a-copy\n",
      "  \n"
     ]
    },
    {
     "data": {
      "text/plain": [
       "<matplotlib.axes._subplots.AxesSubplot at 0x7f9c26004150>"
      ]
     },
     "execution_count": 618,
     "metadata": {},
     "output_type": "execute_result"
    },
    {
     "data": {
      "image/png": "[encoded data removed]",
      "text/plain": [
       "<Figure size 432x288 with 1 Axes>"
      ]
     },
     "metadata": {
      "needs_background": "light"
     },
     "output_type": "display_data"
    }
   ],
   "source": [
    "sample_path\n",
    "sample = HumdrumSummary(sample_path)\n",
    "flowwise_visualize(sample.phrase_based())\n",
    "\n",
    "#df['**recip'].sum()/4"
   ]
  },
  {
   "cell_type": "code",
   "execution_count": null,
   "metadata": {},
   "outputs": [],
   "source": []
  },
  {
   "cell_type": "code",
   "execution_count": null,
   "metadata": {},
   "outputs": [],
   "source": []
  },
  {
   "cell_type": "code",
   "execution_count": null,
   "metadata": {},
   "outputs": [],
   "source": []
  },
  {
   "cell_type": "code",
   "execution_count": 613,
   "metadata": {},
   "outputs": [
    {
     "name": "stderr",
     "output_type": "stream",
     "text": [
      "/Users/haeeunkim/anaconda3/lib/python3.7/site-packages/ipykernel_launcher.py:7: SettingWithCopyWarning: \n",
      "A value is trying to be set on a copy of a slice from a DataFrame\n",
      "\n",
      "See the caveats in the documentation: http://pandas.pydata.org/pandas-docs/stable/user_guide/indexing.html#returning-a-view-versus-a-copy\n",
      "  import sys\n",
      "/Users/haeeunkim/anaconda3/lib/python3.7/site-packages/ipykernel_launcher.py:31: SettingWithCopyWarning: \n",
      "A value is trying to be set on a copy of a slice from a DataFrame\n",
      "\n",
      "See the caveats in the documentation: http://pandas.pydata.org/pandas-docs/stable/user_guide/indexing.html#returning-a-view-versus-a-copy\n"
     ]
    },
    {
     "name": "stdout",
     "output_type": "stream",
     "text": [
      "5 6\n"
     ]
    }
   ],
   "source": [
    "oldschool_error = []\n",
    "summary = {'title' :[], 'MC':[],'tempo':[],'meter':[], 'syl_onsets':[], 'syllabic_rate':[], \\\n",
    "           'rhyme':[], 'genre':[], 'syl_onset_mean':[], 'measure':[], 'breakpoints':[]}\n",
    "for i, f in enumerate(oldschool_files):\n",
    "    try:\n",
    "        sample_path = sample_dir + 'Old School/' + f\n",
    "        sample = HumdrumSummary(sample_path)\n",
    "#        pos = sample.rhyme_postion_dist()\n",
    "        summary['tempo'].append(sample.tempo)\n",
    "        summary['meter'].append(sample.meter)\n",
    "        summary['syl_onsets'].append(sample.syl_onsets)\n",
    "        summary['syllabic_rate'].append(sample.syllabic_rate)\n",
    "        summary['rhyme'].append(sample.rhyme)\n",
    "        summary['title'].append(f)\n",
    "        summary['MC'].append(sample.MC)\n",
    "        summary['genre'].append('oldschool')\n",
    "        summary['measure'].append(sample.measure)\n",
    "        summary['syl_onset_mean'].append(sample.df['**recip'][sample.df['**lyrics']!='.'].mean())\n",
    "        summary['breakpoints'].append(sample.breakpoints.dropna())\n",
    "\n",
    "        \n",
    "    except:\n",
    "        oldschool_error.append(sample_path)\n",
    "        pass\n",
    "    \n",
    "gangsta_error = []\n",
    "\n",
    "for i, f in enumerate(gangsta_files):\n",
    "    try:\n",
    "        sample_path = sample_dir + 'Gangsta/' + f\n",
    "        sample = HumdrumSummary(sample_path)\n",
    "        df = sample.df\n",
    "        summary['tempo'].append(sample.tempo)\n",
    "        summary['meter'].append(sample.meter)\n",
    "        summary['syl_onsets'].append(sample.syl_onsets)\n",
    "        summary['syllabic_rate'].append(sample.syllabic_rate)\n",
    "        summary['rhyme'].append(sample.rhyme)\n",
    "        summary['title'].append(f)\n",
    "        summary['MC'].append(sample.MC)\n",
    "        summary['genre'].append('gangsta')\n",
    "        summary['measure'].append(sample.measure)\n",
    "        summary['syl_onset_mean'].append(sample.df['**recip'][sample.df['**lyrics']!='.'].mean())\n",
    "        summary['breakpoints'].append(sample.breakpoints.dropna())\n",
    "        \n",
    "    \n",
    "    except:\n",
    "        gangsta_error.append(sample_path)\n",
    "        pass\n",
    "print(len(gangsta_error), len(oldschool_error))"
   ]
  },
  {
   "cell_type": "code",
   "execution_count": 615,
   "metadata": {},
   "outputs": [],
   "source": [
    "summary_df = pd.DataFrame(summary)"
   ]
  },
  {
   "cell_type": "code",
   "execution_count": 616,
   "metadata": {},
   "outputs": [
    {
     "data": {
      "image/png": "[encoded data removed]",
      "text/plain": [
       "<Figure size 432x288 with 1 Axes>"
      ]
     },
     "metadata": {
      "needs_background": "light"
     },
     "output_type": "display_data"
    },
    {
     "data": {
      "image/png": "[encoded data removed]",
      "text/plain": [
       "<Figure size 432x288 with 1 Axes>"
      ]
     },
     "metadata": {
      "needs_background": "light"
     },
     "output_type": "display_data"
    }
   ],
   "source": [
    "# metriacal position of start of new phrases\n",
    "\n",
    "plt.hist(pd.concat(list(summary_df['breakpoints'][summary_df.genre=='oldschool'])))\n",
    "plt.show()\n",
    "plt.hist(pd.concat(list(summary_df['breakpoints'][summary_df.genre=='gangsta'])))\n",
    "plt.show()"
   ]
  },
  {
   "cell_type": "code",
   "execution_count": null,
   "metadata": {},
   "outputs": [],
   "source": []
  },
  {
   "cell_type": "code",
   "execution_count": 610,
   "metadata": {},
   "outputs": [
    {
     "data": {
      "image/png": "[encoded data removed]",
      "text/plain": [
       "<Figure size 432x288 with 1 Axes>"
      ]
     },
     "metadata": {
      "needs_background": "light"
     },
     "output_type": "display_data"
    },
    {
     "data": {
      "image/png": "[encoded data removed]",
      "text/plain": [
       "<Figure size 432x288 with 1 Axes>"
      ]
     },
     "metadata": {
      "needs_background": "light"
     },
     "output_type": "display_data"
    }
   ],
   "source": [
    "# syllabic rate - syllables per second\n",
    "plt.hist(summary_df['syllabic_rate'][summary_df.genre == 'oldschool'], bins='auto')\n",
    "plt.show()\n",
    "\n",
    "plt.hist(summary_df['syllabic_rate'][summary_df.genre == 'gangsta'],bins='auto')\n",
    "plt.show()"
   ]
  },
  {
   "cell_type": "code",
   "execution_count": null,
   "metadata": {},
   "outputs": [],
   "source": []
  },
  {
   "cell_type": "code",
   "execution_count": null,
   "metadata": {},
   "outputs": [],
   "source": []
  },
  {
   "cell_type": "code",
   "execution_count": 617,
   "metadata": {},
   "outputs": [
    {
     "data": {
      "image/png": "[encoded data removed]",
      "text/plain": [
       "<Figure size 432x288 with 1 Axes>"
      ]
     },
     "metadata": {
      "needs_background": "light"
     },
     "output_type": "display_data"
    },
    {
     "data": {
      "image/png": "[encoded data removed]",
      "text/plain": [
       "<Figure size 432x288 with 1 Axes>"
      ]
     },
     "metadata": {
      "needs_background": "light"
     },
     "output_type": "display_data"
    }
   ],
   "source": [
    "# metrical position of rhymed syllables\n",
    "\n",
    "plt.hist(pd.concat(list(summary_df['rhyme'][summary_df.genre=='oldschool'])))\n",
    "plt.show()\n",
    "plt.hist(pd.concat(list(summary_df['rhyme'][summary_df.genre=='gangsta'])))\n",
    "plt.show()"
   ]
  }
 ],
 "metadata": {
  "kernelspec": {
   "display_name": "Python 3",
   "language": "python",
   "name": "python3"
  },
  "language_info": {
   "codemirror_mode": {
    "name": "ipython",
    "version": 3
   },
   "file_extension": ".py",
   "mimetype": "text/x-python",
   "name": "python",
   "nbconvert_exporter": "python",
   "pygments_lexer": "ipython3",
   "version": "3.7.4"
  }
 },
 "nbformat": 4,
 "nbformat_minor": 4
}
