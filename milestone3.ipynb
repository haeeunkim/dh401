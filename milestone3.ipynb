{
 "cells": [
  {
   "cell_type": "markdown",
   "metadata": {},
   "source": [
    "# Milestone3: Explatory Analysis and Initial Results (deadline: 22.04 noon)"
   ]
  },
  {
   "cell_type": "markdown",
   "metadata": {},
   "source": [
    "## 1. Define 'rhythimc flow'\n",
    "\n",
    "### 1-1. Initial ideas\n",
    "\n",
    "In the previous milestone, we mentioned that we aim to compare the rhythmic flow of rap music in different genres, in particular, gangsta-rap and old-school rap, and discover and compare the ‘norm’ of each subgenre through statistical analysis. Furthermore, we mentioned that we are going to define the 'rhythmic flow' in two ways: one based on rests, and one based on phrasal breaks.\n",
    "\n",
    "However, after some deeper analysis on the MCFlow dataset, we concluded that 'rest' notation in the dataset is too ambigious to be a definitive criteria of flow. Thus, for our initial explatory analysis, we focused more on phrase-based distiction of 'flow'. If a lyric breaks down into sub-phrases, or followed by a new phrase, marked with punctuation marks as period, comma, etc, a new 'flow' starts.\n",
    "\n",
    "\n",
    "### 1-2. Generalized & Simplified statistics of flow\n",
    "Before taking a deeper analysis on individual patterns of flows, we propose several statistics to illustrate rhythmic flows of each genre in general. Through these general analysis, we are trying to discover general differences or similarities that different genres of rap music have. Those are:   \n",
    "- Average syllabic length (in seconds): How fast MCs sing (or rap). Illustrates not only the 'talkativeness' of songs, but also their accuteness. For example, four 4th notes and four 8th note repectively followed by an 8th rest sounds quite differently in rap. The former gives more of relaxed sentiment, whereas the latter conveys some aggression. \n",
    "\n",
    "- Tempo: Overall speed of songs. Although speed of rap is mainly determined by the MCs and syllabic density rather than its actual tempo, still its tempo can illustrate the overall speed of instrumentals. \n",
    "\n",
    "- Syllabic onsets per phrase: Length of phrases. Generally, longer phrases are performed relentlessly, giving accerlerations and dramatic effects of that specific part. \n",
    "\n",
    "- Beats per phrase: Another lengths of phrases. This adds up the IOIs within each phrase. \n",
    "\n",
    "\n",
    "- Metric position of rhyme: Where rhymes occur within a measure. A wide spectrum of rhyme positions increases irregularities of songs, whereas a narrow spectrum makes songs somewhat predictable.\n",
    "\n",
    "- Metric position of start or end point of phrase: Silmilar to the metric positions of rhyme. Whereas rhyme is more intuitive, sonic feature, start or end points of phrases are semantic feature, highly related to lyrics.\n"
   ]
  },
  {
   "cell_type": "markdown",
   "metadata": {},
   "source": [
    "## 2. Encode LogicPro-tapped XML data into Humdrum format\n",
    "\n",
    "In order to add the inter-cultural or inter-lingual feature to our project, we added a collection of French raps to our dataset. The songs are encoded in XML format by using LogicPro. After such process, the xml files are converted into .txt file by using our own xmlparser, which is stored in another directory in this repository. \n",
    "\n",
    "So far 12 songs are xml-encoded. Although we wrote XML parser that automates the translation process into humdrum format, we are still handling some corner cases in handling rests and calculating IOIs. Thus, sadly, we have only two French raps that are completely ready for the analysis. \n",
    "\n",
    "### Update (29.04)\n",
    "French rap dataset is updated. Now we have 10 songs. There were still some missing notes, so we manually fixed them. \n"
   ]
  },
  {
   "cell_type": "code",
   "execution_count": 1,
   "metadata": {},
   "outputs": [],
   "source": [
    "import pandas as pd\n",
    "import matplotlib.pyplot as plt\n",
    "import numpy as np\n",
    "from matplotlib.lines import Line2D\n",
    "from scipy.stats import entropy\n",
    "from itertools import compress\n",
    "from matplotlib.ticker import PercentFormatter\n",
    "from itertools import groupby\n",
    "from operator import itemgetter\n"
   ]
  },
  {
   "cell_type": "markdown",
   "metadata": {},
   "source": [
    "## 3. Experiments and Analysis "
   ]
  },
  {
   "cell_type": "markdown",
   "metadata": {},
   "source": [
    "### 3-1. Define the modules"
   ]
  },
  {
   "cell_type": "code",
   "execution_count": 22,
   "metadata": {},
   "outputs": [],
   "source": [
    "# modules to define the HumdrumSummary class object\n",
    "\n",
    "\n",
    "def check_measure_validity(df, measures, meter):\n",
    "    # check if all the measures have the exact number of beats required for each measure, which is specified in the meter\n",
    "    \n",
    "    invalid_measures = []\n",
    "    for i in range(len(measures)-1):\n",
    "        snippet = df.loc[measures[i]+1: measures[i+1]-1]\n",
    "        if snippet['**recip'].sum() != meter[0] : invalid_measures.append(df['**recip'].loc[measures[i]]) \n",
    "    return invalid_measures\n",
    "\n",
    "\n",
    "def handle_metadata(df, metadata):\n",
    "    # for MCflow datasets. not appicable for the manually-encoded french raps\n",
    "    # read and parse the metadata lines.\n",
    "    \n",
    "    if metadata:\n",
    "        tempo = int(df['**recip'][df['**recip'].apply(lambda x: '*MM' in x)].unique()[0].strip('*MM')) \n",
    "        meter = tuple(map(lambda x: int(x), \\\n",
    "                         df['**recip'][df['**recip'].apply(lambda x: '/' in x)].unique()[0].strip('*M').split('/')))\n",
    "        df = df[df['**recip'].apply(lambda x: '*M' not in x)]\n",
    "    else:\n",
    "        tempo = 95\n",
    "        meter = (4,4)\n",
    "    return (df, tempo, meter)\n",
    "\n",
    "\n",
    "def handle_pickup(df, meter):\n",
    "    # for MCflow dataset\n",
    "    # After some standarized methods are made in XMLparser, may be applicable to the French dataset as well.\n",
    "    # if a verse starts with a syncopated pickup measure, handle the rests right before the start of the verse.\n",
    "    \n",
    "    df['pickup'] = False\n",
    "\n",
    "    verse_idx = df[df['**recip'].apply(lambda x: '>Verse' in x)].index\n",
    "    measure_idx = df[df['**recip'].apply(lambda x: '=' in x)].index\n",
    "    valid_lyrics = df[df['**lyrics'].apply(lambda x: x!='.')].index.difference(verse_idx).difference(measure_idx)\n",
    "\n",
    "    for i in verse_idx:\n",
    "        verse_start = valid_lyrics[valid_lyrics > i][0]\n",
    "        df.loc[i:verse_start-1,'pickup'] = True\n",
    "\n",
    "        \n",
    "    df = df[df['**recip'].apply(lambda x: x[0] in '0123456789=')]\n",
    "    df['**recip'] = df['**recip'].apply(lambda x: _convert_recip(string=x,ref=meter[1]))             \n",
    "\n",
    "    if (df['**recip'] == '=0').any():\n",
    "        pickup_start = df[df['**recip'].apply(lambda x: x == '=0')].index\n",
    "        pickup_end = df[df['**recip'].apply(lambda x: x == '=1')].index\n",
    "\n",
    "        for i, idx in enumerate(pickup_start):\n",
    "            snippet = df.loc[idx+1:pickup_end[i]-1]\n",
    "            snippet['**recip'][snippet['**lyrics']=='.'] = 0\n",
    "            rest = meter[0] - snippet['**recip'][snippet['**lyrics']!='.'].sum()\n",
    "            snippet['**recip'].at[idx+1] = rest\n",
    "\n",
    "    return df\n",
    "\n",
    "\n",
    "def _convert_recip(string, ref):\n",
    "    # the most important module\n",
    "    # read the beats written in notes, return the length of beat, Expressed as multiples of the reference beat.\n",
    "    # example1: 4/4 music, 16th note -> returns 0.25\n",
    "    # example2: 4/4 music, dotted 2th note -> returns 3\n",
    "    \n",
    "    \n",
    "    if '=' in string:\n",
    "        return string\n",
    "    elif '%' in string:\n",
    "        (num,coef) = list(map(lambda x: int(x), string.split('%')))\n",
    "        return coef * ref / num\n",
    "    else:\n",
    "        try:\n",
    "            dots = string.count('.')\n",
    "            num = int(string.strip('.'))\n",
    "            coef = 1\n",
    "            for d in range(dots):\n",
    "                coef += 1 / (2**(d+1))\n",
    "\n",
    "            return coef * ref / num\n",
    "        except:\n",
    "            return string\n",
    "        \n",
    "def get_ioi(df):\n",
    "    # handle IOIs\n",
    "# merge consecutive rests\n",
    "    ioi_df = df.copy()\n",
    "\n",
    "    # remove pickups\n",
    "    ioi_df = ioi_df[~ioi_df.pickup]\n",
    "\n",
    "    ioi_df = ioi_df.reset_index(drop=True)\n",
    "\n",
    "    # get rest index\n",
    "    # get the notes just before.\n",
    "    # merge\n",
    "\n",
    "    rests_split = [list(map(itemgetter(1), g)) for k, g in \\\n",
    "                    groupby(enumerate(ioi_df[ioi_df['**lyrics'] == '.'].index), lambda x: x[0]-x[1])]\n",
    "\n",
    "    for rs in rests_split:\n",
    "        if len(rs) > 1:\n",
    "            #handle interal merge first\n",
    "    #        print(ioi_df.loc[rs])\n",
    "            total_rests = ioi_df.loc[rs,'**recip'].sum()\n",
    "            ioi_df.loc[rs[:-1],'**recip'] = 0\n",
    "            ioi_df.loc[rs[-1],'**recip'] = total_rests\n",
    "            ioi_df.loc[rs]\n",
    "\n",
    "    ioi_df = ioi_df[ioi_df['**recip']!=0].reset_index(drop=True)\n",
    "    rests_idx = ioi_df[ioi_df['**lyrics'] == '.'].index\n",
    "    for r in rests_idx:\n",
    "        merged_rest = ioi_df.loc[r-1:r,'**recip'].sum()\n",
    "        ioi_df.loc[r-1, '**recip'] = merged_rest\n",
    "        ioi_df.loc[r-1, 'cum_recip'] = ioi_df.loc[r, 'cum_recip']\n",
    "\n",
    "    ioi_df = ioi_df[ioi_df['**lyrics']!='.'].reset_index(drop=True)\n",
    "    return ioi_df        "
   ]
  },
  {
   "cell_type": "code",
   "execution_count": 105,
   "metadata": {},
   "outputs": [],
   "source": [
    "class HumdrumSummary():\n",
    "    # class object to read each humdrum file and store neccesary data.\n",
    "    \n",
    "    def __init__(self, sample_path, metadata=True):\n",
    "\n",
    "        raw_df =  pd.read_table(sample_path)\n",
    "        df = raw_df[raw_df['**recip'].apply(lambda x: '!' not in x)]   \n",
    "\n",
    "        df, tempo, meter = handle_metadata(df, metadata)\n",
    "        \n",
    "        \n",
    "        df['**lyrics'] = df['**lyrics'].apply(lambda x:str(x))\n",
    "        \n",
    "        verses = df[df['**lyrics'].apply(lambda x: '>Verse' in x )].index\n",
    "\n",
    "        for i in range(len(verses)-1):\n",
    "            df.loc[verses[i]:verses[i+1]-1, '**verse'] = i+1\n",
    "        df.loc[verses[-1]:, '**verse'] = len(verses)\n",
    "\n",
    "\n",
    "\n",
    "        measures = df[df['**recip'].apply(lambda x: '=' in x)].index\n",
    "        \n",
    "        df = handle_pickup(df,meter)\n",
    "        \n",
    "        invalid_measures = check_measure_validity(df, measures,meter)#invalid_measures    \n",
    "\n",
    "        df = df[df['**recip'].apply(lambda x: type(x) != str)]\n",
    "        df = df[df['**recip'] != 0]\n",
    "        df['cum_recip'] = df['**recip'].cumsum()\n",
    "        df['breakpoints'] = df['cum_recip'][df['**break'].apply(lambda x: x in ['3','4'])].apply(lambda x: (x-df['**recip'].min()/4)%4)\n",
    "\n",
    "        ioi_df = get_ioi(df)\n",
    "        \n",
    "        self.meter = meter\n",
    "        self.df = df\n",
    "        self.tempo = tempo\n",
    "        self.syl_onsets = df[df['**lyrics']!='.'].shape[0]\n",
    "        self.syllabic_rate = tempo / (60 * df['**recip'][df['**lyrics']!='.'].mean())\n",
    "        self.ioi_rate = tempo / (60 * ioi_df['**recip'].mean())\n",
    "        self.rhyme = df[df['**rhyme']!='.'].cum_recip.apply(lambda x: (x-df['**recip'].min()/4)%4)\n",
    "        self.breakpoints = df['breakpoints']\n",
    "\n",
    "        self.ioi_df = ioi_df\n",
    "        self.raw_df = raw_df\n",
    "\n",
    "        self.invalid_measures = invalid_measures\n",
    "        self.lang = sample_path.split('/')[1]\n",
    "        self.path = sample_path\n",
    "        \n",
    "        \n",
    "        \n",
    "\n",
    "        "
   ]
  },
  {
   "cell_type": "code",
   "execution_count": 24,
   "metadata": {},
   "outputs": [
    {
     "name": "stderr",
     "output_type": "stream",
     "text": [
      "/Users/haeeunkim/anaconda3/lib/python3.7/site-packages/ipykernel_launcher.py:46: SettingWithCopyWarning: \n",
      "A value is trying to be set on a copy of a slice from a DataFrame.\n",
      "Try using .loc[row_indexer,col_indexer] = value instead\n",
      "\n",
      "See the caveats in the documentation: http://pandas.pydata.org/pandas-docs/stable/user_guide/indexing.html#returning-a-view-versus-a-copy\n"
     ]
    }
   ],
   "source": [
    "francophone_dir = 'data/francophone/'\n",
    "\n",
    "francophone_files = [\n",
    "'IAM-Je danse le MIA.txt',\n",
    "'MC Solaar-Hasta La Vista.txt',\n",
    "'Lunatic-Pas le temps pour les regrets.txt',\n",
    "'MC Solaar-Paradisiaque.txt',\n",
    "'MC-Solaar-Obsolete.txt',\n",
    "'NTM-Laisse pas trainer ton fils.txt',\n",
    "'NTM-Ma Benz.txt',\n",
    "\"NTM-That's my people.txt\",\n",
    "\"Passi-Le monde est a moi.txt\",\n",
    "\"Sniper-Grave dans la roche.txt\"\n",
    "]\n",
    "\n",
    "\n",
    "def clean_francophone(sample_file):\n",
    "    sample_dest = francophone_dir + 'oldschool/' + f\n",
    "    sample_path = francophone_dir + 'raw/' + f\n",
    "\n",
    "    sample = pd.read_table(sample_path, header=None)\n",
    "    sample = sample.rename(columns={0:'**recip',1:'**break',2:'**rhyme',3:'**lyrics'})\n",
    "    verse_idx = list(sample[sample['**break'].apply(lambda x: '*>Verse' in x)].index)\n",
    "\n",
    "    # find measure indicator\n",
    "    measures_idx = list(sample[sample['**break'].apply(lambda x: '=' in x)].index)\n",
    "    start_idx = list(sample[sample['**break'].apply(lambda x: x == '*>Verse1')].index)\n",
    "    start_measure_idx = list(compress(measures_idx,list(map(lambda x: x < start_idx[0], measures_idx))))[-1]\n",
    "    # find the closest measure indicator to the verse1 line\n",
    "    #start_measure_idx\n",
    "    sample = sample[sample.index > (start_measure_idx-1)]#.head(30)\n",
    "\n",
    "    #check the rows with 1th note\n",
    "    #sample[sample['**recip'].apply(lambda x: '>' in x)]\n",
    "    sample = sample[sample['**recip'].apply(lambda x: x != '1')]\n",
    "\n",
    "\n",
    "\n",
    "    sample['**lyrics'].at[sample['**lyrics']=='R'] = '.'\n",
    "\n",
    "    #sample['**break'] = sample['**break'].apply(lambda x: int(x))\n",
    "    sample['**break'].at[sample['**break'] == '2'] = '3'\n",
    "    sample['**break'].at[sample['**break'] == '1'] = '4'\n",
    "    sample['**break'].at[sample['**break'] == '0'] = '.'\n",
    "\n",
    "    sample['**rhyme'].at[sample['**rhyme'] == '0'] = '.'\n",
    "    sample['**rhyme'].at[sample['**rhyme'] == '1'] = 'A'\n",
    "\n",
    "\n",
    "    sample.to_csv(sample_dest, sep='\\t', index=False)\n",
    "\n",
    "\n",
    "\n",
    "reset = True\n",
    "if reset:\n",
    "\n",
    "    # check the integrities of manually-encoded files\n",
    "\n",
    "    for f in francophone_files:\n",
    "        clean_francophone(f)\n",
    "\n",
    "            \n",
    "    for f in francophone_files:\n",
    "        sample_path = francophone_dir + 'oldschool/' + f\n",
    "        sample = HumdrumSummary(sample_path, metadata=False)\n",
    "#        print(sample.raw_df.head())\n",
    "\n",
    "\n"
   ]
  },
  {
   "cell_type": "code",
   "execution_count": 25,
   "metadata": {},
   "outputs": [],
   "source": [
    "# load sample data\n",
    "\n",
    "anglophone_dir = 'data/anglophone/'\n",
    "\n",
    "gangsta_files = ['50Cent_CandyShop.rap',\n",
    "'50Cent_DiscoInferno.rap',\n",
    "'50Cent_InDaClub.rap',\n",
    "'50Cent_JustALilBit.rap',\n",
    "'50Cent_P.I.M.P..rap',\n",
    "'Eminem_TheWayIAm.rap',\n",
    "'JayZ_CanIGetA.rap',\n",
    "'JayZ_HolyGrail.rap',\n",
    "'JayZ_NiggasInParis.rap',\n",
    "'KanyeWest_Clique.rap',\n",
    "'KanyeWest_Mercy.rap',\n",
    "'LilWayne_AMilli.rap',\n",
    "'LilWayne_GotMoney.rap',\n",
    "'LilWayne_Lollipop.rap',\n",
    "'Ludacris_HowLow.rap',\n",
    "'Ludacris_MoveBitch.rap',\n",
    "'Ludacris_StandUp.rap',\n",
    "'Ludacris_WhatsYourFantasy.rap',\n",
    "'Mims_ThisIsWhyImHot.rap',\n",
    "'MissyElliott_WorkIt.rap',\n",
    "'Nelly_Grillz.rap',\n",
    "'SnoopDogg_LayLow.rap',\n",
    "'SnoopDogg_Woof.rap',\n",
    "'T.I._LiveYourLife.rap',\n",
    "'T.I._WhatYouKnow.rap',\n",
    "'TerrorSquad_LeanBack.rap']\n",
    "\n",
    "oldschool_files=[\n",
    "'2pac_CaliforniaLove.rap',\n",
    "'2pac_HowDoUWantIt.rap',\n",
    "'2pac_IGetAround.rap',\n",
    "'2pac_PapazSong.rap',\n",
    "'2pac_SoManyTears.txt',\n",
    "'DrDre_NuthinButAGThang.rap',\n",
    "'Eminem_RockBottom.rap',\n",
    "'Eminem_TheRealSlimShady.rap',\n",
    "'JayZ_CantKnockTheHustle.rap',\n",
    "'KrisKross_Jump.rap',\n",
    "'LLCoolJ_HeyLover.rap',\n",
    "'LLCoolJ_INeedLove.rap',\n",
    "'NotoriousBIG_BigPoppa.rap',\n",
    "'NotoriousBIG_GoingBackToCali.rap',\n",
    "'NotoriousBIG_Hypnotize.rap',\n",
    "'NotoriousBIG_Juicy.rap',\n",
    "'NotoriousBIG_MoMoneyMoProblems.rap',\n",
    "'NotoriousBIG_OneMoreChance.rap',\n",
    "'NotoriousBIG_SkysTheLimit.rap',\n",
    "'Run-D.M.C._DownWithTheKing.rap',\n",
    "'SnoopDogg_GinAndJuice.rap',\n",
    "'WarrenG_Regulate.rap',\n",
    "'WillSmith_GettinJiggyWitIt.rap',\n",
    "'WillSmith_Summertime.rap',\n",
    "'WillSmith_WildWildWest.rap',\n",
    "'Wreckx-N-Effect_RumpShaker.rap',\n",
    "]"
   ]
  },
  {
   "cell_type": "code",
   "execution_count": 26,
   "metadata": {},
   "outputs": [],
   "source": [
    "def phrase_based(df, clean_rest=False):\n",
    "    # break the humdrum data into phrases.\n",
    "    # according to the description on the website and our common knowledge of interpreting the lyrics,\n",
    "    # we concluded that only level 3,4 break are meaningful.\n",
    "    sample_clean = df\n",
    "    if clean_rest:\n",
    "        sample_clean = sample_clean[sample_clean['**lyrics']!='.']\n",
    "\n",
    "    breaks_idx = sample_clean[sample_clean['**break'].apply(lambda x: x in ['3','4'])].index\n",
    "\n",
    "\n",
    "    # create a new dataframe that will show the flowwise analysis on this song\n",
    "    sample_flowwise = pd.DataFrame(columns=['recip','lyric'])\n",
    "\n",
    "\n",
    "    for i in range(breaks_idx.shape[0]-1):\n",
    "        (start, end) = (breaks_idx[i], breaks_idx[i+1])\n",
    "        snippet = sample_clean.loc[start:end-1]\n",
    "        sample_flowwise.at[i,'recip'] = snippet['**recip'].values\n",
    "        sample_flowwise.at[i,'lyric'] = ' '.join(snippet['**lyrics'].values)\n",
    "\n",
    "    maxlen = sample_flowwise.lyric.apply(lambda x: len(x)).max()\n",
    "    pd.set_option('display.max_colwidth', maxlen)\n",
    "    return sample_flowwise\n",
    "    \n",
    "        \n",
    "def flowwise_visualize(sample_obj):\n",
    "    # displays the flow of a given rap.\n",
    "    # helper fuction. does not give any significance yet.\n",
    "    # expected to give some visual insights to us.\n",
    "    \n",
    "    sample = phrase_based(sample_obj.df)\n",
    "    maxlen = sample.recip.apply(lambda x: len(x)).max()\n",
    "    sample.recip = sample.recip.apply(lambda x: np.concatenate([x, [0]* (maxlen - len(x))]))\n",
    "    s = pd.DataFrame(item for item in sample.recip)\n",
    "\n",
    "    viz = s.plot(kind='bar', stacked=True, legend=None)\n",
    "    plt.xticks([])\n",
    "    plt.title('visual representation of flows of {0}'.format(sample_obj.path))\n",
    "    plt.xlabel('flows (phrases)')\n",
    "    plt.ylabel('# of beats per flow')\n",
    "    plt.show()\n",
    "#    return viz"
   ]
  },
  {
   "cell_type": "code",
   "execution_count": null,
   "metadata": {},
   "outputs": [],
   "source": []
  },
  {
   "cell_type": "markdown",
   "metadata": {},
   "source": [
    "### 3-2. Execution"
   ]
  },
  {
   "cell_type": "code",
   "execution_count": 106,
   "metadata": {},
   "outputs": [],
   "source": [
    "humdrum_dict = {anglo_os_dir:[], anglo_gs_dir:[], franco_os_dir:[]}\n",
    "\n",
    "\n",
    "def summarize_humdrum(sample_dir, sample_filename):\n",
    "    metadata = False if sample_dir == franco_os_dir else True\n",
    "    sample_path = sample_dir + '/' + sample_filename\n",
    "    \n",
    "    try:\n",
    "\n",
    "        sample = HumdrumSummary(sample_path, metadata)\n",
    "#        print('here')\n",
    "        humdrum_dict[sample_dir].append(sample)\n",
    "\n",
    "    except:\n",
    "        error.append(sample_dir + '/' + f)\n",
    "        pass\n",
    "    \n"
   ]
  },
  {
   "cell_type": "code",
   "execution_count": null,
   "metadata": {},
   "outputs": [],
   "source": []
  },
  {
   "cell_type": "code",
   "execution_count": 46,
   "metadata": {},
   "outputs": [
    {
     "data": {
      "text/plain": [
       "'data/francophone/oldschool'"
      ]
     },
     "execution_count": 46,
     "metadata": {},
     "output_type": "execute_result"
    }
   ],
   "source": [
    "francophone_dir+'oldschool'"
   ]
  },
  {
   "cell_type": "code",
   "execution_count": 107,
   "metadata": {},
   "outputs": [
    {
     "name": "stdout",
     "output_type": "stream",
     "text": [
      "number of anglophone oldschool files to read: 26\n",
      "number of anglophone gangsta files to read: 26\n",
      "number of francophone oldschool files to read: 10\n"
     ]
    },
    {
     "name": "stderr",
     "output_type": "stream",
     "text": [
      "/Users/haeeunkim/anaconda3/lib/python3.7/site-packages/ipykernel_launcher.py:46: SettingWithCopyWarning: \n",
      "A value is trying to be set on a copy of a slice from a DataFrame.\n",
      "Try using .loc[row_indexer,col_indexer] = value instead\n",
      "\n",
      "See the caveats in the documentation: http://pandas.pydata.org/pandas-docs/stable/user_guide/indexing.html#returning-a-view-versus-a-copy\n",
      "/Users/haeeunkim/anaconda3/lib/python3.7/site-packages/ipykernel_launcher.py:58: SettingWithCopyWarning: \n",
      "A value is trying to be set on a copy of a slice from a DataFrame\n",
      "\n",
      "See the caveats in the documentation: http://pandas.pydata.org/pandas-docs/stable/user_guide/indexing.html#returning-a-view-versus-a-copy\n",
      "/Users/haeeunkim/anaconda3/lib/python3.7/site-packages/pandas/core/generic.py:9114: SettingWithCopyWarning: \n",
      "A value is trying to be set on a copy of a slice from a DataFrame\n",
      "\n",
      "See the caveats in the documentation: http://pandas.pydata.org/pandas-docs/stable/user_guide/indexing.html#returning-a-view-versus-a-copy\n",
      "  self._update_inplace(new_data)\n",
      "/Users/haeeunkim/anaconda3/lib/python3.7/site-packages/ipykernel_launcher.py:24: SettingWithCopyWarning: \n",
      "A value is trying to be set on a copy of a slice from a DataFrame\n",
      "\n",
      "See the caveats in the documentation: http://pandas.pydata.org/pandas-docs/stable/user_guide/indexing.html#returning-a-view-versus-a-copy\n",
      "/Users/haeeunkim/anaconda3/lib/python3.7/site-packages/pandas/core/indexing.py:205: SettingWithCopyWarning: \n",
      "A value is trying to be set on a copy of a slice from a DataFrame\n",
      "\n",
      "See the caveats in the documentation: http://pandas.pydata.org/pandas-docs/stable/user_guide/indexing.html#returning-a-view-versus-a-copy\n",
      "  self._setitem_with_indexer(indexer, value)\n"
     ]
    },
    {
     "name": "stdout",
     "output_type": "stream",
     "text": [
      "Check : File not read: 0\n"
     ]
    }
   ],
   "source": [
    "error = []\n",
    "\n",
    "print('number of anglophone oldschool files to read: {0}'.format(len(oldschool_files)))\n",
    "print('number of anglophone gangsta files to read: {0}'.format(len(gangsta_files)))\n",
    "print('number of francophone oldschool files to read: {0}'.format(len(francophone_files)))\n",
    "\n",
    "anglo_os_dir = anglophone_dir + 'oldschool'\n",
    "anglo_gs_dir = anglophone_dir + 'gangsta'\n",
    "franco_os_dir = francophone_dir + 'oldschool'\n",
    "\n",
    "directories = [(anglo_os_dir, oldschool_files),\\\n",
    "             (anglo_gs_dir,gangsta_files),\n",
    "             (franco_os_dir,francophone_files)]\n",
    "\n",
    "for d in directories:\n",
    "    for f in d[1]:\n",
    "        summarize_humdrum(d[0],f)\n",
    "\n",
    "print('Check : File not read: {0}'.format(len(error)))"
   ]
  },
  {
   "cell_type": "code",
   "execution_count": null,
   "metadata": {},
   "outputs": [],
   "source": []
  },
  {
   "cell_type": "code",
   "execution_count": 29,
   "metadata": {},
   "outputs": [],
   "source": []
  },
  {
   "cell_type": "markdown",
   "metadata": {},
   "source": [
    "### 3-3. General Analysis\n",
    "\n",
    "Firstly, we will investigate the statistical analysis of the general features of flow, mentioned in section 1-2.\n",
    "\n",
    "Usally, boxplots are more suitable in illustrating the overall distributions. However, since we have relatively small number of samples, we also use general histogram to get the detailed idea on each distribution. "
   ]
  },
  {
   "cell_type": "markdown",
   "metadata": {},
   "source": [
    "### A. Song-centered analysis\n",
    "In this part, we have one datapoint for each song. For the moment, we don't have tempos of french songs, which is a necessary feature here. So francophone songs are negleted here.\n",
    "\n",
    "1. Syllable lengthes\n",
    "\n",
    "Average length (in seconds) of syllabic onset for each song. In the attribute definition, rests are neglected and not taken into account, so that it can illustrate the accuteness of notes played with short syllables and long rests. Later, we can try similar calculatation on IOIs, getting the density of syllables throught the song."
   ]
  },
  {
   "cell_type": "code",
   "execution_count": null,
   "metadata": {},
   "outputs": [],
   "source": []
  },
  {
   "cell_type": "code",
   "execution_count": 349,
   "metadata": {},
   "outputs": [],
   "source": [
    "labels = list(humdrum_dict.keys())\n",
    "\n",
    "def plot_analysis(func, option=0):\n",
    "    data = {}\n",
    "\n",
    "    fig, (ax1, ax2) = plt.subplots(1, 2, figsize=(16,5))\n",
    "    \n",
    "\n",
    "    for i,h in enumerate(humdrum_dict):\n",
    "        if option == 0:\n",
    "            data[h] = list(map(func,humdrum_dict[h]))\n",
    "        elif option == 1:\n",
    "#            print(list(map(func,humdrum_dict[h])))\n",
    "            data[h] = (sum(list(map(func,humdrum_dict[h])), []))\n",
    "        ax1.hist(data[h], weights=np.ones(len(data[h])) / len(data[h]), \\\n",
    "                 alpha=0.5, label=list(humdrum_dict.keys())[i])                     \n",
    "        ax2.boxplot(data[h], positions=[i]) \n",
    "\n",
    "    \n",
    "\n",
    "    ax1.yaxis.set_major_formatter(PercentFormatter(1))\n",
    "    ax1.legend()\n",
    "    \n",
    "    plt.sca(ax2)\n",
    "    plt.xticks(range(0,len(labels)), labels, rotation = 0)\n",
    "    \n",
    "    ax1.set_ylabel('percentage (within genre)')\n",
    "    ax2.set_xlabel('genre')\n",
    "\n",
    "    return fig, (ax1, ax2)\n",
    "\n",
    "\n",
    "def plot_entropy_analysis(func):\n",
    "    data = {}\n",
    "\n",
    "    fig, axs = plt.subplots(1, 3, figsize=(16,5), sharey=True)\n",
    "    \n",
    "\n",
    "    for i,h in enumerate(humdrum_dict):\n",
    "        data[h] = (sum(list(map(func,humdrum_dict[h])), []))\n",
    "        axs[i].hist(data[h], weights=np.ones(len(data[h])) / len(data[h]), \\\n",
    "                 alpha=0.5, label=list(humdrum_dict.keys())[i]) \n",
    "        axs[i].yaxis.set_major_formatter(PercentFormatter(1))\n",
    "        axs[i].set_title('{0} : entropy {1}'.format(labels[i],np.round(entropy(data[h]),3)))\n",
    "        plt.sca(axs[i])\n",
    "\n",
    "    return fig, axs\n",
    "\n",
    "\n",
    "def plot_label(fig, axs, feature, unit):\n",
    "    if len(axs) == 2:\n",
    "        axs[0].set_title('distribution of ' + feature + '(histogram)')\n",
    "        axs[0].set_xlabel(unit)\n",
    "        axs[1].set_title('distribution of ' + feature + '(boxplot)')\n",
    "        axs[1].set_ylabel(unit)\n",
    "        \n",
    "    elif len(axs)== 3:\n",
    "        for i in range(len(humdrum_dict)):\n",
    "            axs[i].set_xlabel(unit)\n",
    "            \n",
    "\n",
    "\n",
    "        plt.suptitle('distribution of ' + feature)\n"
   ]
  },
  {
   "cell_type": "code",
   "execution_count": 339,
   "metadata": {},
   "outputs": [
    {
     "data": {
      "image/png": "[encoded data removed]",
      "text/plain": [
       "<Figure size 1152x360 with 2 Axes>"
      ]
     },
     "metadata": {
      "needs_background": "light"
     },
     "output_type": "display_data"
    }
   ],
   "source": [
    "\n",
    "func = lambda x: 1/ x.syllabic_rate\n",
    "\n",
    "feature = 'syllables per second'\n",
    "unit = 'length of syllables in seconds'\n",
    "\n",
    "\n",
    "fig, (ax1, ax2) = plot_analysis(func)\n",
    "plot_label(fig, (ax1, ax2), feature, unit)\n",
    "\n",
    "\n",
    "plt.show() \n",
    "\n"
   ]
  },
  {
   "cell_type": "markdown",
   "metadata": {},
   "source": [
    "Both genres have similar median and interquatile range. Still, syllables in old school raps tends to be shorter than their gangsta counterparts"
   ]
  },
  {
   "cell_type": "markdown",
   "metadata": {},
   "source": [
    "2. tempo"
   ]
  },
  {
   "cell_type": "code",
   "execution_count": 342,
   "metadata": {},
   "outputs": [
    {
     "data": {
      "image/png": "[encoded data removed]",
      "text/plain": [
       "<Figure size 1152x360 with 2 Axes>"
      ]
     },
     "metadata": {
      "needs_background": "light"
     },
     "output_type": "display_data"
    }
   ],
   "source": [
    "func = lambda x: x.tempo\n",
    "\n",
    "feature = 'tempo'\n",
    "unit = 'official tempo'\n",
    "\n",
    "\n",
    "fig, (ax1, ax2) = plot_analysis(func)\n",
    "plot_label(fig, (ax1, ax2), feature, unit)\n",
    "\n",
    "plt.show() \n",
    "#print('median differ by {:.2f} %'.format(100*np.abs(medians[0]-medians[1])/min(medians)))\n"
   ]
  },
  {
   "cell_type": "markdown",
   "metadata": {},
   "source": [
    "Anglophone oldschool raps have faster tempo that their gangsta counterpart. The distribution is more constrained in the oldschool. On the other hand, tempo of anglophone gangsta is slower, with larger variance.\n",
    "\n",
    "Again, this graph can be supplemented by the syllabic density analysis by using IOIs.\n"
   ]
  },
  {
   "cell_type": "markdown",
   "metadata": {},
   "source": [
    "### B. Phrase-centered analysis\n",
    "In this part, we have one datapoint for each phrase in the set. For example, if there are two songs in a dataset, one with 10 phrases and one with 20 phrases, the total number of datapoints is 30. We conducted our analysis this way because we didn't want to ignore details of various phrases (or 'flows'). In such analysis, however, there is a possiblity that songs with longer phrases being overrepresented.\n",
    "\n",
    "To interpret the phrase-centered analysis more securely and avoid possible over/under-representation, we start by displaying the distribution of number of phrases per song in each set of data.\n"
   ]
  },
  {
   "cell_type": "markdown",
   "metadata": {},
   "source": [
    "1. Number of phrases for each song"
   ]
  },
  {
   "cell_type": "code",
   "execution_count": 343,
   "metadata": {},
   "outputs": [
    {
     "data": {
      "image/png": "[encoded data removed]",
      "text/plain": [
       "<Figure size 1152x360 with 2 Axes>"
      ]
     },
     "metadata": {
      "needs_background": "light"
     },
     "output_type": "display_data"
    }
   ],
   "source": [
    "func = lambda x: x.breakpoints.dropna().shape[0]\n",
    "feature = 'the number of phrases in each song'\n",
    "unit = 'number of phrases'\n",
    "\n",
    "fig, (ax1, ax2) = plot_analysis(func)\n",
    "plot_label(fig, (ax1, ax2), feature, unit)\n",
    "\n",
    "plt.show()\n"
   ]
  },
  {
   "cell_type": "markdown",
   "metadata": {},
   "source": [
    "The distribution of the francophone dataset deviates a lot from the anglophone datasets. Like other results, median for the anglophone oldschool and gangsta differs by ~10%, and the variance is higher in gangsta.\n",
    "French songs had significantly less phrases per each song"
   ]
  },
  {
   "cell_type": "markdown",
   "metadata": {},
   "source": [
    "2. Number of syllables per phrase"
   ]
  },
  {
   "cell_type": "code",
   "execution_count": 344,
   "metadata": {},
   "outputs": [
    {
     "data": {
      "image/png": "[encoded data removed]",
      "text/plain": [
       "<Figure size 1152x360 with 2 Axes>"
      ]
     },
     "metadata": {
      "needs_background": "light"
     },
     "output_type": "display_data"
    }
   ],
   "source": [
    "func = lambda x: phrase_based(x.df)['recip'].apply(lambda y: len(y)).tolist()\n",
    "\n",
    "\n",
    "\n",
    "fig, (ax1, ax2) = plot_analysis(func,option=1)\n",
    "\n",
    "\n",
    "\n",
    "feature = 'syllables per phrase '\n",
    "unit = 'syllables per phrase'\n",
    "\n",
    "\n",
    "plot_label(fig, (ax1, ax2), feature, unit)\n",
    "\n",
    "plt.show()\n",
    "\n"
   ]
  },
  {
   "cell_type": "code",
   "execution_count": null,
   "metadata": {},
   "outputs": [],
   "source": []
  },
  {
   "cell_type": "markdown",
   "metadata": {},
   "source": [
    "No significant difference is observed here."
   ]
  },
  {
   "cell_type": "markdown",
   "metadata": {},
   "source": [
    "3. Beats per phrase: "
   ]
  },
  {
   "cell_type": "code",
   "execution_count": 345,
   "metadata": {},
   "outputs": [
    {
     "data": {
      "image/png": "[encoded data removed]",
      "text/plain": [
       "<Figure size 1152x360 with 2 Axes>"
      ]
     },
     "metadata": {
      "needs_background": "light"
     },
     "output_type": "display_data"
    }
   ],
   "source": [
    "func = lambda x: phrase_based(x.df)['recip'].apply(lambda y: sum(y)).tolist()\n",
    "\n",
    "\n",
    "\n",
    "fig, (ax1, ax2) = plot_analysis(func,option=1)\n",
    "\n",
    "\n",
    "\n",
    "feature = 'beats per phrase '\n",
    "unit = 'beats per phrase'\n",
    "\n",
    "\n",
    "plot_label(fig, (ax1, ax2), feature, unit)\n",
    "\n",
    "\n",
    "plt.show()"
   ]
  },
  {
   "cell_type": "markdown",
   "metadata": {},
   "source": [
    "In all cases, peaks appear around the multiples of 2 (half a measure). The distribution differs between three genres. In anglophone gangsta, phrases appears to be quite short, taking only two beats at most of the cases. In anglophone oldschool, beats per phrase is rather evenly distributed between half measure and whole measure. Likewise, francophone oldschool is more concentrated on 4-beats phrase."
   ]
  },
  {
   "cell_type": "markdown",
   "metadata": {},
   "source": [
    "### C. Measure-centered Analysis\n",
    "\n",
    "Compute the metrical position of certain feature (rhyme, phrase starting points, etc) within the song, and aggregate the data. If the distribution is even, we can say that that specific genre has higher degree of freedom in placing rhymes and starting phrases. To get the general idea of 'degree of freedom', we computed entropies of features in each dataset. This is how they characterized phrasing styles of different MCs in MCflow dataset."
   ]
  },
  {
   "cell_type": "markdown",
   "metadata": {},
   "source": [
    "1. Starting point of phrases"
   ]
  },
  {
   "cell_type": "code",
   "execution_count": 350,
   "metadata": {},
   "outputs": [
    {
     "data": {
      "image/png": "[encoded data removed]",
      "text/plain": [
       "<Figure size 1152x360 with 3 Axes>"
      ]
     },
     "metadata": {
      "needs_background": "light"
     },
     "output_type": "display_data"
    }
   ],
   "source": [
    "func = lambda x: x.breakpoints.dropna().tolist()\n",
    "\n",
    "fig, axs = plot_entropy_analysis(func)\n",
    "\n",
    "\n",
    "feature = 'Metric position of Phrase starting point'\n",
    "unit = 'Metrical position'\n",
    "\n",
    "\n",
    "plot_label(fig, axs, feature, unit)\n",
    "plt.show()"
   ]
  },
  {
   "cell_type": "markdown",
   "metadata": {},
   "source": [
    "In all genres, phrases tend to start at the first or last metrical position of measure. Considering the incompleteness of the francophone dataset, no significant or reliable difference is observed."
   ]
  },
  {
   "cell_type": "markdown",
   "metadata": {},
   "source": [
    "2. Rhyme positions"
   ]
  },
  {
   "cell_type": "code",
   "execution_count": 351,
   "metadata": {},
   "outputs": [
    {
     "data": {
      "image/png": "[encoded data removed]",
      "text/plain": [
       "<Figure size 1152x360 with 3 Axes>"
      ]
     },
     "metadata": {
      "needs_background": "light"
     },
     "output_type": "display_data"
    }
   ],
   "source": [
    "func = lambda x:x.rhyme.tolist()\n",
    "\n",
    "fig, axs = plot_entropy_analysis(func)\n",
    "\n",
    "\n",
    "feature = 'Metric position of rhyme'\n",
    "unit = 'Metrical position'\n",
    "\n",
    "\n",
    "plot_label(fig, axs, feature, unit)\n",
    "plt.show()"
   ]
  },
  {
   "cell_type": "markdown",
   "metadata": {},
   "source": [
    "In all genres, rhymes tend to occur at the ast metrical position of measure. Considering the incompleteness of the francophone dataset, no significant or reliable difference is observed."
   ]
  },
  {
   "cell_type": "markdown",
   "metadata": {},
   "source": [
    "## 4. Discussions and Interpretaions\n",
    "\n",
    "\n",
    "So far we have found out following differences: \n",
    "\n",
    "- Anglophone oldschool : accute, faster tempo, generally shows smaller variance in the feature we looked at. Longer phrases.\n",
    "- Anglophone Gangsta: obtuse, slower tempo, generally shows larger variance in the feature we looked at. Very short phrases.\n",
    "- (Francophone oldschool: not enough datapoints)\n",
    "\n",
    "The most significant difference found here is the 'standard' length of phrase (flow) in terms of beats. Seeing the distribution of the length of flow, we can reasonably choose the 'representative flow' of each genre, by filtering through the beat length, which will be useful in later analysis.\n",
    "\n",
    "However, even though these are good illustrations of different genres of rap music in general, we were not able to conduct any 'deeper' analysis on flows and discovering 'norm flow' for each genre. This is largely due to the result of analysis C. Initially, we aimed to discover different distributions in rhyme positions and phrase string points in different genres, but it turned out that there is no significant difference.\n",
    "\n",
    "This leads us to conduct more detailed analysis on each phrase(flow). How are IOIs distributed within a flow? What can be the possible rhyme position of a following flow? How frequent such flow appear throughout the song or genre?\n",
    "One of the obvious ways to conduct the abovementioned points is to statically analyze the sequence of syllabic onsets (or IOIs) through Markov model.\n",
    "\n",
    "Besides, we can select 'representative songs' per each genre, visualize their flow by marking different lengths of syllabic onsets (or IOIS) within a flow. The example is just below:"
   ]
  },
  {
   "cell_type": "code",
   "execution_count": null,
   "metadata": {},
   "outputs": [],
   "source": []
  },
  {
   "cell_type": "markdown",
   "metadata": {},
   "source": [
    "In this figure, all the syllabic onsets and rests are marked in different color, relative to the reference beat. Each bar indicates each flow.\n",
    "Here, the figure intuitively illustrates that the majority of its flows are 4-beat or 2-beat long, which reflects the results of part 3.B.3. Moreover, the internal distribution of syllabic onsets is very regular as well."
   ]
  },
  {
   "cell_type": "markdown",
   "metadata": {},
   "source": [
    "Through such final analysis we aim to:\n",
    "- clarify general difference between anglophone oldschool/anglophone gangsta/francophone oldschool rap\n",
    "- show (statistically) standard flow of each genre.\n",
    "- state the inter-genre or inter-cultural (or inter-linguistical) influence on rap flow: Is francophone oldschool rap more similar to anglophone oldschool rap, or anglophone gangsta rap, or neither?\n",
    "\n",
    "\n",
    "## 5. (Tentative) Things to do before the final milestone\n",
    "### More general analysis to be done\n",
    "- fix the xmlparser, so that we have a complete humdrum set of francophone raps. -> done\n",
    "- compute syllabic density ('talktativeness) of each song, by computing average IOIs. -> done\n",
    "- compute note distribution of each song.\n",
    "\n",
    "### Intra-phrase analysis\n",
    "- markov analysis on IOIs within phrase\n",
    "- markov analysis on rhyme positions within phrase"
   ]
  },
  {
   "cell_type": "code",
   "execution_count": null,
   "metadata": {},
   "outputs": [],
   "source": []
  },
  {
   "cell_type": "code",
   "execution_count": null,
   "metadata": {},
   "outputs": [],
   "source": []
  },
  {
   "cell_type": "code",
   "execution_count": null,
   "metadata": {},
   "outputs": [],
   "source": []
  },
  {
   "cell_type": "code",
   "execution_count": 236,
   "metadata": {},
   "outputs": [
    {
     "name": "stdout",
     "output_type": "stream",
     "text": [
      "[0.125      0.16666667 0.25       0.33333333 0.375      0.5\n",
      " 0.625      0.75       0.875      1.         1.125      1.25\n",
      " 1.5        1.75       2.         2.25       2.5        2.75\n",
      " 3.         3.125      3.25       3.375      3.5        3.625\n",
      " 3.75       4.        ]\n",
      "26\n"
     ]
    },
    {
     "data": {
      "text/plain": [
       "Float64Index([0.25, 0.5, 0.125, 0.375, 0.75, 1.0, 0.16666666666666666, 3.5,\n",
       "              2.0, 3.0],\n",
       "             dtype='float64')"
      ]
     },
     "execution_count": 236,
     "metadata": {},
     "output_type": "execute_result"
    }
   ],
   "source": [
    "# possible ioi lengths -> to get the markov matrix \n",
    "\n",
    "\n",
    "\n",
    "transitions_ = []\n",
    "for h in humdrum_dict:\n",
    "#    print(h)\n",
    "    temp = np.concatenate(list(map(lambda x: x.df['**recip'],humdrum_dict[h])))\n",
    "    transitions_.append(temp)\n",
    "\n",
    "    \n",
    "from itertools import chain\n",
    "\n",
    "\n",
    "\n",
    "transitions_ = list(chain(*transitions_))#print list(chain(*A))\n",
    "# or better: (available since Python 2.6)\n",
    "#print list(chain.from_iterable(A))\n",
    "transitions = np.unique(transitions_)\n",
    "print(transitions)\n",
    "print(len(transitions))\n",
    "\n",
    "pd.Series(transitions_).value_counts().head(10).index"
   ]
  },
  {
   "cell_type": "code",
   "execution_count": 231,
   "metadata": {},
   "outputs": [
    {
     "name": "stdout",
     "output_type": "stream",
     "text": [
      "[0.125      0.16666667 0.25       0.33333333 0.375      0.5\n",
      " 0.625      0.75       0.875      1.         1.125      1.25\n",
      " 1.375      1.5        1.75       1.875      2.         2.25\n",
      " 2.375      2.5        2.75       3.         3.25       3.5\n",
      " 3.75       4.         4.25       4.5        4.75       7.75      ]\n",
      "30\n"
     ]
    },
    {
     "data": {
      "text/plain": [
       "0.250000    22470\n",
       "0.500000     6674\n",
       "0.750000     1536\n",
       "0.125000     1477\n",
       "0.375000      898\n",
       "1.000000      579\n",
       "0.166667      262\n",
       "1.250000      156\n",
       "0.625000       95\n",
       "1.500000       76\n",
       "0.875000       50\n",
       "1.750000       33\n",
       "2.000000       22\n",
       "0.333333       22\n",
       "4.000000       15\n",
       "2.500000       12\n",
       "1.125000       10\n",
       "3.750000        8\n",
       "2.750000        6\n",
       "4.250000        6\n",
       "2.250000        5\n",
       "1.375000        5\n",
       "3.250000        4\n",
       "3.000000        3\n",
       "3.500000        2\n",
       "7.750000        1\n",
       "4.500000        1\n",
       "1.875000        1\n",
       "4.750000        1\n",
       "2.375000        1\n",
       "dtype: int64"
      ]
     },
     "execution_count": 231,
     "metadata": {},
     "output_type": "execute_result"
    }
   ],
   "source": [
    "# possible ioi lengths -> to get the markov matrix \n",
    "\n",
    "\n",
    "\n",
    "transitions_ = []\n",
    "for h in humdrum_dict:\n",
    "#    print(h)\n",
    "    temp = np.concatenate(list(map(lambda x: x.ioi_df['**recip'],humdrum_dict[h])))\n",
    "    transitions_.append(temp)\n",
    "\n",
    "    \n",
    "from itertools import chain\n",
    "\n",
    "\n",
    "\n",
    "transitions_ = list(chain(*transitions_))#print list(chain(*A))\n",
    "# or better: (available since Python 2.6)\n",
    "#print list(chain.from_iterable(A))\n",
    "transitions = np.unique(transitions_)\n",
    "print(transitions)\n",
    "print(len(transitions))\n",
    "\n",
    "pd.Series(transitions_).value_counts()"
   ]
  },
  {
   "cell_type": "code",
   "execution_count": 208,
   "metadata": {},
   "outputs": [],
   "source": [
    "import seaborn as sns"
   ]
  },
  {
   "cell_type": "code",
   "execution_count": 209,
   "metadata": {},
   "outputs": [
    {
     "data": {
      "image/png": "[encoded data removed]",
      "text/plain": [
       "<Figure size 432x288 with 2 Axes>"
      ]
     },
     "metadata": {
      "needs_background": "light"
     },
     "output_type": "display_data"
    },
    {
     "ename": "IndexError",
     "evalue": "index 0 is out of bounds for axis 0 with size 0",
     "output_type": "error",
     "traceback": [
      "\u001b[0;31m---------------------------------------------------------------------------\u001b[0m",
      "\u001b[0;31mIndexError\u001b[0m                                Traceback (most recent call last)",
      "\u001b[0;32m<ipython-input-209-4582e99fbf8c>\u001b[0m in \u001b[0;36m<module>\u001b[0;34m\u001b[0m\n\u001b[1;32m      5\u001b[0m     \u001b[0m_T\u001b[0m \u001b[0;34m=\u001b[0m \u001b[0;34m[\u001b[0m\u001b[0;34m]\u001b[0m\u001b[0;34m\u001b[0m\u001b[0;34m\u001b[0m\u001b[0m\n\u001b[1;32m      6\u001b[0m     \u001b[0;32mfor\u001b[0m \u001b[0mm\u001b[0m \u001b[0;32min\u001b[0m \u001b[0mmarkov_list\u001b[0m\u001b[0;34m:\u001b[0m\u001b[0;34m\u001b[0m\u001b[0;34m\u001b[0m\u001b[0m\n\u001b[0;32m----> 7\u001b[0;31m         \u001b[0m_T\u001b[0m\u001b[0;34m.\u001b[0m\u001b[0mappend\u001b[0m\u001b[0;34m(\u001b[0m\u001b[0mlist\u001b[0m\u001b[0;34m(\u001b[0m\u001b[0mmap\u001b[0m\u001b[0;34m(\u001b[0m\u001b[0;32mlambda\u001b[0m \u001b[0mx\u001b[0m\u001b[0;34m:\u001b[0m \u001b[0mnp\u001b[0m\u001b[0;34m.\u001b[0m\u001b[0margwhere\u001b[0m\u001b[0;34m(\u001b[0m\u001b[0mtransitions\u001b[0m \u001b[0;34m==\u001b[0m \u001b[0mx\u001b[0m\u001b[0;34m)\u001b[0m\u001b[0;34m[\u001b[0m\u001b[0;36m0\u001b[0m\u001b[0;34m]\u001b[0m\u001b[0;34m[\u001b[0m\u001b[0;36m0\u001b[0m\u001b[0;34m]\u001b[0m\u001b[0;34m,\u001b[0m\u001b[0mm\u001b[0m\u001b[0;34m)\u001b[0m\u001b[0;34m)\u001b[0m\u001b[0;34m)\u001b[0m\u001b[0;34m\u001b[0m\u001b[0;34m\u001b[0m\u001b[0m\n\u001b[0m\u001b[1;32m      8\u001b[0m \u001b[0;34m\u001b[0m\u001b[0m\n\u001b[1;32m      9\u001b[0m     \u001b[0mM\u001b[0m \u001b[0;34m=\u001b[0m \u001b[0mnp\u001b[0m\u001b[0;34m.\u001b[0m\u001b[0mzeros\u001b[0m\u001b[0;34m(\u001b[0m\u001b[0;34m(\u001b[0m\u001b[0mtransitions\u001b[0m\u001b[0;34m.\u001b[0m\u001b[0mshape\u001b[0m\u001b[0;34m[\u001b[0m\u001b[0;36m0\u001b[0m\u001b[0;34m]\u001b[0m\u001b[0;34m,\u001b[0m\u001b[0mtransitions\u001b[0m\u001b[0;34m.\u001b[0m\u001b[0mshape\u001b[0m\u001b[0;34m[\u001b[0m\u001b[0;36m0\u001b[0m\u001b[0;34m]\u001b[0m\u001b[0;34m)\u001b[0m\u001b[0;34m)\u001b[0m\u001b[0;34m\u001b[0m\u001b[0;34m\u001b[0m\u001b[0m\n",
      "\u001b[0;32m<ipython-input-209-4582e99fbf8c>\u001b[0m in \u001b[0;36m<lambda>\u001b[0;34m(x)\u001b[0m\n\u001b[1;32m      5\u001b[0m     \u001b[0m_T\u001b[0m \u001b[0;34m=\u001b[0m \u001b[0;34m[\u001b[0m\u001b[0;34m]\u001b[0m\u001b[0;34m\u001b[0m\u001b[0;34m\u001b[0m\u001b[0m\n\u001b[1;32m      6\u001b[0m     \u001b[0;32mfor\u001b[0m \u001b[0mm\u001b[0m \u001b[0;32min\u001b[0m \u001b[0mmarkov_list\u001b[0m\u001b[0;34m:\u001b[0m\u001b[0;34m\u001b[0m\u001b[0;34m\u001b[0m\u001b[0m\n\u001b[0;32m----> 7\u001b[0;31m         \u001b[0m_T\u001b[0m\u001b[0;34m.\u001b[0m\u001b[0mappend\u001b[0m\u001b[0;34m(\u001b[0m\u001b[0mlist\u001b[0m\u001b[0;34m(\u001b[0m\u001b[0mmap\u001b[0m\u001b[0;34m(\u001b[0m\u001b[0;32mlambda\u001b[0m \u001b[0mx\u001b[0m\u001b[0;34m:\u001b[0m \u001b[0mnp\u001b[0m\u001b[0;34m.\u001b[0m\u001b[0margwhere\u001b[0m\u001b[0;34m(\u001b[0m\u001b[0mtransitions\u001b[0m \u001b[0;34m==\u001b[0m \u001b[0mx\u001b[0m\u001b[0;34m)\u001b[0m\u001b[0;34m[\u001b[0m\u001b[0;36m0\u001b[0m\u001b[0;34m]\u001b[0m\u001b[0;34m[\u001b[0m\u001b[0;36m0\u001b[0m\u001b[0;34m]\u001b[0m\u001b[0;34m,\u001b[0m\u001b[0mm\u001b[0m\u001b[0;34m)\u001b[0m\u001b[0;34m)\u001b[0m\u001b[0;34m)\u001b[0m\u001b[0;34m\u001b[0m\u001b[0;34m\u001b[0m\u001b[0m\n\u001b[0m\u001b[1;32m      8\u001b[0m \u001b[0;34m\u001b[0m\u001b[0m\n\u001b[1;32m      9\u001b[0m     \u001b[0mM\u001b[0m \u001b[0;34m=\u001b[0m \u001b[0mnp\u001b[0m\u001b[0;34m.\u001b[0m\u001b[0mzeros\u001b[0m\u001b[0;34m(\u001b[0m\u001b[0;34m(\u001b[0m\u001b[0mtransitions\u001b[0m\u001b[0;34m.\u001b[0m\u001b[0mshape\u001b[0m\u001b[0;34m[\u001b[0m\u001b[0;36m0\u001b[0m\u001b[0;34m]\u001b[0m\u001b[0;34m,\u001b[0m\u001b[0mtransitions\u001b[0m\u001b[0;34m.\u001b[0m\u001b[0mshape\u001b[0m\u001b[0;34m[\u001b[0m\u001b[0;36m0\u001b[0m\u001b[0;34m]\u001b[0m\u001b[0;34m)\u001b[0m\u001b[0;34m)\u001b[0m\u001b[0;34m\u001b[0m\u001b[0;34m\u001b[0m\u001b[0m\n",
      "\u001b[0;31mIndexError\u001b[0m: index 0 is out of bounds for axis 0 with size 0"
     ]
    }
   ],
   "source": [
    "for h in humdrum_dict:\n",
    "\n",
    "    markov_list = phrase_based(humdrum_dict[h][0].ioi_df)['recip'].tolist()\n",
    "\n",
    "    _T = []\n",
    "    for m in markov_list:\n",
    "        _T.append(list(map(lambda x: np.argwhere(transitions == x)[0][0],m)))\n",
    "\n",
    "    M = np.zeros((transitions.shape[0],transitions.shape[0]))\n",
    "\n",
    "    T = np.concatenate(_T)\n",
    "\n",
    "    #create matrix of zeros\n",
    "\n",
    "    #M = [[0]*4 for _ in range(4)]\n",
    "\n",
    "    for (i,j) in zip(T,T[1:]):\n",
    "        M[i][j] += 1\n",
    "\n",
    "    #now convert to probabilities:\n",
    "    for row in M:\n",
    "        n = sum(row)\n",
    "        if n > 0:\n",
    "            row[:] = [f/sum(row) for f in row]\n",
    "\n",
    "\n",
    "\n",
    "    probs = M\n",
    "    sns.heatmap(M)\n",
    "    plt.show()\n",
    "    "
   ]
  },
  {
   "cell_type": "code",
   "execution_count": null,
   "metadata": {},
   "outputs": [],
   "source": []
  },
  {
   "cell_type": "code",
   "execution_count": 191,
   "metadata": {},
   "outputs": [],
   "source": []
  },
  {
   "cell_type": "code",
   "execution_count": null,
   "metadata": {},
   "outputs": [],
   "source": []
  },
  {
   "cell_type": "code",
   "execution_count": null,
   "metadata": {},
   "outputs": [],
   "source": []
  },
  {
   "cell_type": "code",
   "execution_count": null,
   "metadata": {},
   "outputs": [],
   "source": []
  },
  {
   "cell_type": "code",
   "execution_count": null,
   "metadata": {},
   "outputs": [],
   "source": []
  },
  {
   "cell_type": "code",
   "execution_count": null,
   "metadata": {},
   "outputs": [],
   "source": []
  },
  {
   "cell_type": "code",
   "execution_count": null,
   "metadata": {},
   "outputs": [],
   "source": []
  },
  {
   "cell_type": "code",
   "execution_count": null,
   "metadata": {},
   "outputs": [],
   "source": []
  },
  {
   "cell_type": "code",
   "execution_count": null,
   "metadata": {},
   "outputs": [],
   "source": []
  },
  {
   "cell_type": "code",
   "execution_count": null,
   "metadata": {},
   "outputs": [],
   "source": []
  },
  {
   "cell_type": "code",
   "execution_count": null,
   "metadata": {},
   "outputs": [],
   "source": []
  },
  {
   "cell_type": "code",
   "execution_count": null,
   "metadata": {},
   "outputs": [],
   "source": []
  },
  {
   "cell_type": "code",
   "execution_count": null,
   "metadata": {},
   "outputs": [],
   "source": []
  },
  {
   "cell_type": "code",
   "execution_count": null,
   "metadata": {},
   "outputs": [],
   "source": []
  },
  {
   "cell_type": "code",
   "execution_count": null,
   "metadata": {},
   "outputs": [],
   "source": []
  },
  {
   "cell_type": "code",
   "execution_count": null,
   "metadata": {},
   "outputs": [],
   "source": []
  },
  {
   "cell_type": "code",
   "execution_count": null,
   "metadata": {},
   "outputs": [],
   "source": []
  },
  {
   "cell_type": "code",
   "execution_count": null,
   "metadata": {},
   "outputs": [],
   "source": []
  },
  {
   "cell_type": "code",
   "execution_count": null,
   "metadata": {},
   "outputs": [],
   "source": []
  },
  {
   "cell_type": "code",
   "execution_count": null,
   "metadata": {},
   "outputs": [],
   "source": []
  },
  {
   "cell_type": "code",
   "execution_count": null,
   "metadata": {},
   "outputs": [],
   "source": []
  },
  {
   "cell_type": "code",
   "execution_count": null,
   "metadata": {},
   "outputs": [],
   "source": []
  },
  {
   "cell_type": "code",
   "execution_count": null,
   "metadata": {},
   "outputs": [],
   "source": []
  },
  {
   "cell_type": "code",
   "execution_count": null,
   "metadata": {},
   "outputs": [],
   "source": []
  },
  {
   "cell_type": "code",
   "execution_count": null,
   "metadata": {},
   "outputs": [],
   "source": []
  },
  {
   "cell_type": "code",
   "execution_count": null,
   "metadata": {},
   "outputs": [],
   "source": []
  },
  {
   "cell_type": "code",
   "execution_count": null,
   "metadata": {},
   "outputs": [],
   "source": []
  },
  {
   "cell_type": "code",
   "execution_count": null,
   "metadata": {},
   "outputs": [],
   "source": [
    "\n"
   ]
  },
  {
   "cell_type": "code",
   "execution_count": null,
   "metadata": {},
   "outputs": [],
   "source": []
  },
  {
   "cell_type": "code",
   "execution_count": null,
   "metadata": {},
   "outputs": [],
   "source": []
  },
  {
   "cell_type": "code",
   "execution_count": null,
   "metadata": {},
   "outputs": [],
   "source": []
  },
  {
   "cell_type": "code",
   "execution_count": null,
   "metadata": {},
   "outputs": [],
   "source": []
  },
  {
   "cell_type": "code",
   "execution_count": null,
   "metadata": {},
   "outputs": [],
   "source": []
  },
  {
   "cell_type": "code",
   "execution_count": null,
   "metadata": {},
   "outputs": [],
   "source": [
    "\n",
    "'''\n",
    "df['pickup'] = False\n",
    "\n",
    "if (df['**recip'] == '=0').any():\n",
    "    pickup_start = df[df['**recip'].apply(lambda x: x == '=0')].index\n",
    "    pickup_end = df[df['**recip'].apply(lambda x: x == '=1')].index\n",
    "\n",
    "    for i, idx in enumerate(pickup_start):\n",
    "        snippet = df.loc[idx+1:pickup_end[i]-1]\n",
    "        snippet['**recip'][snippet['**lyrics']=='.'] = 0\n",
    "        rest = meter[0] - snippet['**recip'][snippet['**lyrics']!='.'].sum()\n",
    "        snippet['**recip'].at[idx+1] = rest\n",
    "\n",
    "\n",
    "verse_idx = df[df['**recip'].apply(lambda x: '>Verse' in x)].index\n",
    "measure_idx = df[df['**recip'].apply(lambda x: '=' in x)].index\n",
    "valid_lyrics = df[df['**lyrics'].apply(lambda x: x!='.')].index.difference(verse_idx).difference(measure_idx)\n",
    "\n",
    "for i in verse_idx:\n",
    "    verse_start = valid_lyrics[valid_lyrics > i][0]\n",
    "    df.loc[i:verse_start-1,'pickup'] = True\n",
    "\n",
    "    \n",
    "\n",
    "\n",
    "df = df[df['**recip'].apply(lambda x: x[0] in '0123456789=')]\n",
    "meter = (4,4)\n",
    "df['**recip'] = df['**recip'].apply(lambda x: _convert_recip(string=x,ref=meter[1]))             \n",
    "\n",
    "'''\n",
    "\n",
    "\n",
    "\n",
    "'''# part of pickup_control\n",
    "\n",
    "\n",
    "pickup_split = [list(map(itemgetter(1), g)) for k, g in groupby(enumerate(df[df.pickup].index), lambda x: x[0]-x[1])]\n",
    "\n",
    "pickup_split\n",
    "\n",
    "for v in pickup_split:\n",
    "    #pickup_start = v[0]\n",
    "    #pickup_end = v[-1]\n",
    "    snippet = df.loc[v[0]:v[-1]]\n",
    "    pickup_sum = snippet['**recip'].sum()\n",
    "    df.loc[v[0]:v[-1], '**recip'] = 0\n",
    "    df.loc[v[-1],'**recip'] = pickup_sum'''\n",
    "\n",
    "'''# I think this won't be used really.\n",
    "\n",
    "def measure_based(df):\n",
    "    # break the humdrum data into measures.\n",
    "    sample_clean = df\n",
    "\n",
    "    breaks_idx = sample_clean[sample_clean['cum_recip'].apply(lambda x: x%4 == 0)].index + 1\n",
    "\n",
    "\n",
    "    # create a new dataframe that will show the flowwise analysis on this song\n",
    "    sample_flowwise = pd.DataFrame(columns=['recip','lyric'])\n",
    "\n",
    "\n",
    "    for i in range(breaks_idx.shape[0]):\n",
    "        if i == 0:\n",
    "            (start, end) = (0, breaks_idx[0])\n",
    "        else:\n",
    "            (start, end) = (breaks_idx[i-1], breaks_idx[i])\n",
    "        snippet = sample_clean.loc[start:end-1]\n",
    "        sample_flowwise.at[i,'recip'] = snippet['**recip'].values\n",
    "        sample_flowwise.at[i,'lyric'] = ' '.join(snippet['**lyrics'].values)\n",
    "\n",
    "    maxlen = sample_flowwise.lyric.apply(lambda x: len(x)).max()\n",
    "    pd.set_option('display.max_colwidth', maxlen)\n",
    "    return sample_flowwise\n",
    "    \n",
    "error = []\n",
    "\n",
    "\n",
    "def concat_units(sample_dir, sample_genre, sample_filename, summary, metadata=True):\n",
    "    try:\n",
    "        sample_path = sample_dir + sample_genre + '/' + sample_filename\n",
    "        sample = HumdrumSummary(sample_path, metadata)\n",
    "\n",
    "        summary['measure_based'].extend(measure_based(sample.df)['recip'].tolist())\n",
    "        summary['phrase_based'].extend(phrase_based(sample.df)['recip'].tolist())\n",
    "\n",
    "    except:\n",
    "        error.append(sample_dir + sample_genre + '/' + f)\n",
    "        pass\n",
    "    \n",
    "    \n",
    "\n",
    "\n",
    "summary_units1 = {'measure_based':[],'phrase_based':[]}\n",
    "summary_units2 = {'measure_based':[],'phrase_based':[]}\n",
    "summary_units3 = {'measure_based':[],'phrase_based':[]}\n",
    "\n",
    "print('number of anglophone oldschool files to read: {0}'.format(len(oldschool_files)))\n",
    "print('number of anglophone gangsta files to read: {0}'.format(len(gangsta_files)))\n",
    "print('number of francophone oldschool files to read: {0}'.format(len(francophone_files)))\n",
    "\n",
    "for f in oldschool_files:\n",
    "    concat_units(anglophone_dir, 'oldschool', f, summary_units1)\n",
    "\n",
    "for f in gangsta_files:\n",
    "    concat_units(anglophone_dir, 'gangsta', f, summary_units2)\n",
    "    \n",
    "for f in francophone_files:\n",
    "    concat_units(francophone_dir, 'oldschool', f, summary_units3, metadata=False)\n",
    "    \n",
    "print('Check : File not read: {0}'.format(len(error)))\n",
    "\n",
    "\n",
    "plt.hist(list(map(lambda x: sum(x), summary_units1['measure_based'])))\n",
    "plt.show()\n",
    "plt.hist(list(map(lambda x: sum(x), summary_units2['measure_based'])))\n",
    "plt.show()\n",
    "plt.hist(list(map(lambda x: sum(x), summary_units3['measure_based'])))\n",
    "plt.show()'''"
   ]
  },
  {
   "cell_type": "code",
   "execution_count": null,
   "metadata": {},
   "outputs": [],
   "source": []
  },
  {
   "cell_type": "code",
   "execution_count": null,
   "metadata": {},
   "outputs": [],
   "source": []
  },
  {
   "cell_type": "code",
   "execution_count": null,
   "metadata": {},
   "outputs": [],
   "source": []
  },
  {
   "cell_type": "code",
   "execution_count": null,
   "metadata": {},
   "outputs": [],
   "source": []
  },
  {
   "cell_type": "code",
   "execution_count": null,
   "metadata": {},
   "outputs": [],
   "source": []
  },
  {
   "cell_type": "code",
   "execution_count": null,
   "metadata": {},
   "outputs": [],
   "source": []
  },
  {
   "cell_type": "code",
   "execution_count": null,
   "metadata": {},
   "outputs": [],
   "source": []
  },
  {
   "cell_type": "code",
   "execution_count": null,
   "metadata": {},
   "outputs": [],
   "source": []
  },
  {
   "cell_type": "code",
   "execution_count": null,
   "metadata": {},
   "outputs": [],
   "source": []
  }
 ],
 "metadata": {
  "kernelspec": {
   "display_name": "Python 3",
   "language": "python",
   "name": "python3"
  },
  "language_info": {
   "codemirror_mode": {
    "name": "ipython",
    "version": 3
   },
   "file_extension": ".py",
   "mimetype": "text/x-python",
   "name": "python",
   "nbconvert_exporter": "python",
   "pygments_lexer": "ipython3",
   "version": "3.7.4"
  }
 },
 "nbformat": 4,
 "nbformat_minor": 4
}
