{
 "cells": [
  {
   "cell_type": "markdown",
   "metadata": {},
   "source": [
    "# Milestone3: Explatory Analysis and Initial Results (deadline: 22.04 noon)"
   ]
  },
  {
   "cell_type": "markdown",
   "metadata": {},
   "source": [
    "## 1. Define 'rhythimc flow'\n",
    "\n",
    "### 1-1. Initial ideas\n",
    "\n",
    "In the previous milestone, we mentioned that we aim to compare the rhythmic flow of rap music in different genres, in particular, gangsta-rap and old-school rap, and discover and compare the ‘norm’ of each subgenre through statistical analysis. Furthermore, we mentioned that we are going to define the 'rhythmic flow' in two ways: one based on rests, and one based on phrasal breaks.\n",
    "\n",
    "However, after some deeper analysis on the MCFlow dataset, we concluded that 'rest' notation in the dataset is too ambigious to be a definitive criteria of flow. Thus, for our initial explatory analysis, we focused more on phrase-based distiction of 'flow'. If a lyric breaks down into sub-phrases, or followed by a new phrase, marked with punctuation marks as period, comma, etc, a new 'flow' starts.\n",
    "\n",
    "\n",
    "### 1-2. Generalized & Simplified statistics of flow\n",
    "Before taking a deeper analysis on individual patterns of flows, we propose several statistics to illustrate rhythmic flows of each genre in general. Through these general analysis, we are trying to discover general differences or similarities that different genres of rap music have. Those are:   \n",
    "- Syllabic onsets per second: How fast MCs sing (or rap). Illustrates not only the 'talkativeness' of songs, but also their accuteness. For example, four 4th notes and four 8th note repectively followed by an 8th rest sounds quite differently in rap. The former gives more of relaxed sentiment, whereas the latter conveys some aggression. If we want to consider only the talkativeness, we must not consider rests, but consider only 0th-order IOIs. In current version of analysis, we considered both talkativeness and sentiments of raps. Later, we can compute the same thing considering IOIs, and compare the two results.\n",
    "\n",
    "- Metric position of rhyme: Where rhymes occur within a measure. A wide spectrum of rhyme positions increases irregularities of songs, whereas a narrow spectrum makes songs somewhat predictable.\n",
    "\n",
    "- Metric position of start or end point of phrase: Silmilar to the metric positions of rhyme. Whereas rhyme is more intuitive, sonic feature, start or end points of phrases are semantic feature, highly related to lyrics.\n",
    "\n",
    "- Tempo: Overall speed of songs. Although speed of rap is mainly determined by the MCs and syllabic density rather than its actual tempo, still its tempo can illustrate the overall speed of instrumentals. \n",
    "\n",
    "- Syllabic onsets per phrase: Length of phrases. Generally, longer phrases are performed relentlessly, giving accerlerations and dramatic effects of that specific part. \n",
    "\n",
    "- Beats per phrase: Another lengths of phrases. This adds up the IOIs within each phrase. \n"
   ]
  },
  {
   "cell_type": "markdown",
   "metadata": {},
   "source": [
    "## 2. Encode LogicPro-tapped XML data into Humdrum format\n",
    "\n",
    "In order to add the inter-cultural or inter-lingual feature to our project, we added a collection of French raps to our dataset. The songs are encoded in XML format by using LogicPro. Each song was xml-encoded by abiding the following guidelines: \n",
    "- blah\n",
    "- blah\n",
    "- blah\n",
    "\n",
    "After such process, the xml files are converted into .txt file by using our own xmlparser, which is stored separately. \n",
    "\n",
    "So far 12 songs are xml-encoded. Although we wrote XML parser that automates the translation process into humdrum format, we are still handling some corner cases in handling rests and calculating IOIs. Thus, sadly, we have only two French raps that are completely ready for the analysis. \n"
   ]
  },
  {
   "cell_type": "code",
   "execution_count": 151,
   "metadata": {},
   "outputs": [],
   "source": [
    "francophone_dir = 'data/francophone/'\n",
    "\n",
    "francophone_files = [\n",
    "'IAM-Je danse le MIA.txt',\n",
    "'MC Solaar-Hasta La Vista.txt',\n",
    "]\n",
    "\n",
    "\n",
    "reset = False\n",
    "if reset:\n",
    "    for f in francophone_files:\n",
    "        sample_path = francophone_dir + f\n",
    "        sample = HumdrumSummary(sample_path, metadata=False, pickup_control=False)\n",
    "    #    print(sample_path)\n",
    "        print(sample.invalid_measures)\n",
    "\n",
    "\n",
    "    # check the integrities of manually-encoded files\n",
    "\n",
    "    for f in francophone_files:\n",
    "        sample_path = francophone_dir + 'oldschool' + f\n",
    "        sample = pd.read_table(sample_path, header=None)\n",
    "        sample = sample.rename(columns={0:'**recip',1:'**break',2:'**rhyme',3:'**lyric'})\n",
    "        print(sample_path)\n",
    "        print(sample['**recip'][sample['**recip'].apply(lambda x: list(set.intersection(set(x), set(['=','>']))) == [])].unique())\n",
    "        print(sample['**recip'][sample['**recip'].apply(lambda x: '>' in x)].unique())\n",
    "        sample.head()\n",
    "\n",
    "    # find verse1 line\n",
    "    def clean_francophone(sample_path):\n",
    "        sample = pd.read_table(sample_path, header=None)\n",
    "        sample = sample.rename(columns={0:'**recip',1:'**break',2:'**rhyme',3:'**lyrics'})\n",
    "        verse_idx = list(sample[sample['**break'].apply(lambda x: '*>Verse' in x)].index)\n",
    "\n",
    "        # find measure indicator\n",
    "        measures_idx = list(sample[sample['**break'].apply(lambda x: '=' in x)].index)\n",
    "        start_idx = list(sample[sample['**break'].apply(lambda x: x == '*>Verse1')].index)\n",
    "        start_measure_idx = list(compress(measures_idx,list(map(lambda x: x < start_idx[0], measures_idx))))[-1]\n",
    "        # find the closest measure indicator to the verse1 line\n",
    "        #start_measure_idx\n",
    "        sample = sample[sample.index > (start_measure_idx-1)]#.head(30)\n",
    "\n",
    "        #check the rows with 1th note\n",
    "        #sample[sample['**recip'].apply(lambda x: '>' in x)]\n",
    "        sample = sample[sample['**recip'].apply(lambda x: x != '1')]\n",
    "\n",
    "\n",
    "        sample['**lyrics'].at[sample['**lyrics']=='R'] = '.'\n",
    "\n",
    "        #sample['**break'] = sample['**break'].apply(lambda x: int(x))\n",
    "        sample['**break'].at[sample['**break'] == '2'] = '3'\n",
    "        sample['**break'].at[sample['**break'] == '1'] = '4'\n",
    "        sample['**break'].at[sample['**break'] == '0'] = '.'\n",
    "\n",
    "        sample['**rhyme'].at[sample['**rhyme'] == '0'] = '.'\n",
    "        sample['**rhyme'].at[sample['**rhyme'] == '1'] = 'A'\n",
    "\n",
    "\n",
    "        sample.to_csv(sample_path, sep='\\t', index=False)\n",
    "\n",
    "\n",
    "    for f in francophone_files:\n",
    "        sample_path = francophone_dir + 'oldschool/' + f\n",
    "        clean_francophone(sample_path)"
   ]
  },
  {
   "cell_type": "markdown",
   "metadata": {},
   "source": [
    "## 3. Experiments and Analysis \n",
    "\n",
    "\n",
    "\n",
    "\n",
    "Which analyses or experiments did you perform and what are the results? Choose suitable visualizations to show your results.\n",
    "\n",
    "How do the results relate to your hypotheses?\n",
    "\n",
    "Did you find interesting or unexpected things? How do they influence your project?\n",
    "\n",
    "What are problems that you encountered? How could you plan to deal with them?\n",
    "\n",
    "\n",
    "Do the analyses and results make sense? How can they be interpreted?\n",
    "\n",
    "What are the next steps in the project?\n",
    "\n",
    "Which aspects of your findings do you want to put in the center?\n",
    "\n",
    "Which ones do you decide not to pursue further?"
   ]
  },
  {
   "cell_type": "code",
   "execution_count": 1,
   "metadata": {},
   "outputs": [],
   "source": [
    "import pandas as pd\n",
    "import matplotlib.pyplot as plt\n",
    "import numpy as np\n",
    "from matplotlib.lines import Line2D\n",
    "from scipy.stats import entropy\n",
    "from itertools import compress"
   ]
  },
  {
   "cell_type": "code",
   "execution_count": 2,
   "metadata": {},
   "outputs": [],
   "source": [
    "# load sample data\n",
    "\n",
    "anglophone_dir = 'data/anglophone/'\n",
    "\n",
    "gangsta_files = ['50Cent_CandyShop.rap',\n",
    "'50Cent_DiscoInferno.rap',\n",
    "'50Cent_InDaClub.rap',\n",
    "'50Cent_JustALilBit.rap',\n",
    "'50Cent_P.I.M.P..rap',\n",
    "'Eminem_TheWayIAm.rap',\n",
    "'JayZ_CanIGetA.rap',\n",
    "'JayZ_HolyGrail.rap',\n",
    "'JayZ_NiggasInParis.rap',\n",
    "'KanyeWest_Clique.rap',\n",
    "'KanyeWest_Mercy.rap',\n",
    "'LilWayne_AMilli.rap',\n",
    "'LilWayne_GotMoney.rap',\n",
    "'LilWayne_Lollipop.rap',\n",
    "'Ludacris_HowLow.rap',\n",
    "'Ludacris_MoveBitch.rap',\n",
    "'Ludacris_StandUp.rap',\n",
    "'Ludacris_WhatsYourFantasy.rap',\n",
    "'Mims_ThisIsWhyImHot.rap',\n",
    "'MissyElliott_WorkIt.rap',\n",
    "'Nelly_Grillz.rap',\n",
    "'SnoopDogg_LayLow.rap',\n",
    "'SnoopDogg_Woof.rap',\n",
    "'T.I._LiveYourLife.rap',\n",
    "'T.I._WhatYouKnow.rap',\n",
    "'TerrorSquad_LeanBack.rap']\n",
    "\n",
    "oldschool_files=[\n",
    "'2pac_CaliforniaLove.rap',\n",
    "'2pac_HowDoUWantIt.rap',\n",
    "'2pac_IGetAround.rap',\n",
    "'2pac_PapazSong.rap',\n",
    "'2pac_SoManyTears.txt',\n",
    "'DrDre_NuthinButAGThang.rap',\n",
    "'Eminem_RockBottom.rap',\n",
    "'Eminem_TheRealSlimShady.rap',\n",
    "'JayZ_CantKnockTheHustle.rap',\n",
    "'KrisKross_Jump.rap',\n",
    "'LLCoolJ_HeyLover.rap',\n",
    "'LLCoolJ_INeedLove.rap',\n",
    "'NotoriousBIG_BigPoppa.rap',\n",
    "'NotoriousBIG_GoingBackToCali.rap',\n",
    "'NotoriousBIG_Hypnotize.rap',\n",
    "'NotoriousBIG_Juicy.rap',\n",
    "'NotoriousBIG_MoMoneyMoProblems.rap',\n",
    "'NotoriousBIG_OneMoreChance.rap',\n",
    "'NotoriousBIG_SkysTheLimit.rap',\n",
    "'Run-D.M.C._DownWithTheKing.rap',\n",
    "'SnoopDogg_GinAndJuice.rap',\n",
    "'WarrenG_Regulate.rap',\n",
    "'WillSmith_GettinJiggyWitIt.rap',\n",
    "'WillSmith_Summertime.rap',\n",
    "'WillSmith_WildWildWest.rap',\n",
    "'Wreckx-N-Effect_RumpShaker.rap',\n",
    "]"
   ]
  },
  {
   "cell_type": "markdown",
   "metadata": {},
   "source": []
  },
  {
   "cell_type": "code",
   "execution_count": 110,
   "metadata": {},
   "outputs": [],
   "source": [
    "# modules to define the HumdrumSummary class object\n",
    "\n",
    "\n",
    "def check_measure_validity(df, measures, meter):\n",
    "    # check if all the measures have the exact number of beats required for each measure, which is specified in the meter\n",
    "    \n",
    "    invalid_measures = []\n",
    "    for i in range(len(measures)-1):\n",
    "        snippet = df.loc[measures[i]+1: measures[i+1]-1]\n",
    "        if snippet['**recip'].sum() != meter[0] : invalid_measures.append(df['**recip'].loc[measures[i]]) \n",
    "    return invalid_measures\n",
    "\n",
    "\n",
    "def handle_metadata(df, metadata):\n",
    "    # for MCflow datasets. not appicable for the manually-encoded french raps\n",
    "    # read and parse the metadata lines.\n",
    "    \n",
    "    if metadata:\n",
    "        tempo = int(df['**recip'][df['**recip'].apply(lambda x: '*MM' in x)].unique()[0].strip('*MM')) \n",
    "        meter = tuple(map(lambda x: int(x), \\\n",
    "                         df['**recip'][df['**recip'].apply(lambda x: '/' in x)].unique()[0].strip('*M').split('/')))\n",
    "    else:\n",
    "        tempo = 95\n",
    "        meter = (4,4)\n",
    "    return (tempo, meter)\n",
    "\n",
    "\n",
    "def handle_pickup(df, pickup_control, meter):\n",
    "    # for MCflow dataset\n",
    "    # After some standarized methods are made in XMLparser, may be applicable to the French dataset as well.\n",
    "    # if a verse starts with a syncopated pickup measure, handle the rests right before the start of the verse.\n",
    "    \n",
    "    pickup = False        \n",
    "    if pickup_control:\n",
    "        if (df['**recip'] == '=0').any():\n",
    "            pickup = True\n",
    "            pickup_start = df[df['**recip'].apply(lambda x: x == '=0')].index\n",
    "            pickup_end = df[df['**recip'].apply(lambda x: x == '=1')].index\n",
    "\n",
    "            for i, idx in enumerate(pickup_start):\n",
    "                snippet = df.loc[idx+1:pickup_end[i]-1]\n",
    "                snippet['**recip'][snippet['**lyrics']=='.'] = 0\n",
    "                rest = meter[0] - snippet['**recip'][snippet['**lyrics']!='.'].sum()\n",
    "                snippet['**recip'].at[idx+1] = rest\n",
    "    return df, pickup\n",
    "\n",
    "\n",
    "def _convert_recip(string, ref):\n",
    "    # the most important module\n",
    "    # read the beats written in notes, return the length of beat, Expressed as multiples of the reference beat.\n",
    "    # example1: 4/4 music, 16th note -> returns 0.25\n",
    "    # example2: 4/4 music, dotted 2th note -> returns 3\n",
    "    \n",
    "    \n",
    "    if '=' in string:\n",
    "        return string\n",
    "    elif '%' in string:\n",
    "        (num,coef) = list(map(lambda x: int(x), string.split('%')))\n",
    "        return coef * ref / num\n",
    "    else:    \n",
    "        dots = string.count('.')\n",
    "        num = int(string.strip('.'))\n",
    "        coef = 1\n",
    "        for d in range(dots):\n",
    "            coef += 1 / (2**(d+1))\n",
    "\n",
    "        return coef * ref / num\n",
    "        "
   ]
  },
  {
   "cell_type": "code",
   "execution_count": 152,
   "metadata": {},
   "outputs": [],
   "source": [
    "class HumdrumSummary():\n",
    "    # class object to read each humdrum file and store neccesary data.\n",
    "    \n",
    "    def __init__(self, sample_path, metadata=True, pickup_control=True):\n",
    "\n",
    "        raw_df =  pd.read_table(sample_path)\n",
    "        df = raw_df[raw_df['**recip'].apply(lambda x: '!' not in x)]   \n",
    "\n",
    "        tempo, meter = handle_metadata(df, metadata)\n",
    "\n",
    "            \n",
    "        measures = df[df['**recip'].apply(lambda x: '=' in x)].index\n",
    "        \n",
    "        df = df[df['**recip'].apply(lambda x: x[0] in '0123456789=')]\n",
    "        df['**recip'] = df['**recip'].apply(lambda x: _convert_recip(string=x,ref=meter[1]))             \n",
    "        df, pickup = handle_pickup(df, pickup_control, meter)\n",
    "        \n",
    "        invalid_measures = check_measure_validity(df, measures,meter)#invalid_measures    \n",
    "\n",
    "        df = df[df['**recip'].apply(lambda x: type(x) != str)]\n",
    "        df = df[df['**recip'] != 0]\n",
    "        df['cum_recip'] = df['**recip'].cumsum()\n",
    "        df['breakpoints'] = df['cum_recip'][df['**break'].apply(lambda x: x in ['3','4'])].apply(lambda x: (x-df['**recip'].min()/4)%4)\n",
    "        df['**lyrics'] = df['**lyrics'].apply(lambda x:str(x))\n",
    "        \n",
    "        self.measure = df['**recip'].sum() / meter[0]\n",
    "        self.meter = meter\n",
    "        self.df = df\n",
    "        \n",
    "        self.tempo = tempo\n",
    "        self.syl_onsets = df[df['**lyrics']!='.'].shape[0]\n",
    "        self.syllabic_rate = tempo / (60 * df['**recip'][df['**lyrics']!='.'].mean())\n",
    "        self.rhyme = df[df['**rhyme']!='.'].cum_recip.apply(lambda x: (x-df['**recip'].min()/4)%4)\n",
    "        self.breakpoints = df['breakpoints']\n",
    "\n",
    "        \n",
    "        self.raw_df = raw_df\n",
    "        self.pickup = pickup\n",
    "        self.MC = sample_path.split('/')[-1].split('_')[0]        \n",
    "        self.invalid_measures = invalid_measures\n",
    "        self.lang = sample_path.split('/')[1]\n",
    "        \n",
    "\n",
    "        "
   ]
  },
  {
   "cell_type": "code",
   "execution_count": 112,
   "metadata": {},
   "outputs": [],
   "source": [
    "def phrase_based(df, clean_rest=False):\n",
    "    # according to the description on the website and our common knowledge of interpreting the lyrics,\n",
    "    # we concluded that only level 3,4 break are meaningful.\n",
    "    sample_clean = df\n",
    "    if clean_rest:\n",
    "        sample_clean = sample_clean[sample_clean['**lyrics']!='.']\n",
    "\n",
    "    breaks_idx = sample_clean[sample_clean['**break'].apply(lambda x: x in ['3','4'])].index\n",
    "    # add closing break point\n",
    "\n",
    "    # create a new dataframe that will show the flowwise analysis on this song\n",
    "    sample_flowwise = pd.DataFrame(columns=['recip','lyric'])\n",
    "\n",
    "\n",
    "    for i in range(breaks_idx.shape[0]-1):\n",
    "        (start, end) = (breaks_idx[i], breaks_idx[i+1])\n",
    "        snippet = sample_clean.loc[start:end-1]\n",
    "        sample_flowwise.at[i,'recip'] = snippet['**recip'].values\n",
    "        sample_flowwise.at[i,'lyric'] = ' '.join(snippet['**lyrics'].values)\n",
    "\n",
    "    maxlen = sample_flowwise.lyric.apply(lambda x: len(x)).max()\n",
    "    pd.set_option('display.max_colwidth', maxlen)\n",
    "    return sample_flowwise\n",
    "    \n",
    "        \n",
    "def flowwise_visualize(flowwise_df):\n",
    "    sample = flowwise_df\n",
    "    maxlen = sample.recip.apply(lambda x: len(x)).max()\n",
    "    sample.recip = sample.recip.apply(lambda x: np.concatenate([x, [0]* (maxlen - len(x))]))\n",
    "    s = pd.DataFrame(item for item in sample.recip)\n",
    "\n",
    "    viz = s.plot(kind='bar', stacked=True, legend=None)\n",
    "    plt.xticks([])\n",
    "    return viz\n",
    "    "
   ]
  },
  {
   "cell_type": "code",
   "execution_count": 113,
   "metadata": {},
   "outputs": [],
   "source": [
    "#phrase_based(temp.df)"
   ]
  },
  {
   "cell_type": "code",
   "execution_count": 128,
   "metadata": {},
   "outputs": [],
   "source": [
    "def summarize_humdrum(sample_dir, sample_genre, sample_filename, summary, metadata=True, pickup_control=True):\n",
    "    try:\n",
    "        sample_path = sample_dir + sample_genre + '/' + sample_filename\n",
    "        sample = HumdrumSummary(sample_path, metadata, pickup_control)\n",
    "        \n",
    "        summary['tempo'].append(sample.tempo)\n",
    "        summary['meter'].append(sample.meter)\n",
    "        summary['syl_onsets'].append(sample.syl_onsets)\n",
    "        summary['syllabic_rate'].append(sample.syllabic_rate)\n",
    "        summary['rhyme'].append(sample.rhyme)\n",
    "        summary['title'].append(f)\n",
    "        summary['MC'].append(sample.MC)\n",
    "        summary['genre'].append(sample_genre)\n",
    "        summary['measure'].append(sample.measure)\n",
    "        summary['syl_onset_mean'].append(sample.df['**recip'][sample.df['**lyrics']!='.'].mean())\n",
    "        summary['breakpoints'].append(sample.breakpoints.dropna())\n",
    "        summary['lang'].append(sample.lang)\n",
    "        summary['phrase_syl'].append(phrase_based(sample.df)['recip'].apply(lambda x: len(x)))\n",
    "        summary['phrase_beat'].append(phrase_based(sample.df)['recip'].apply(lambda x: sum(x)))\n",
    "\n",
    "    except:\n",
    "        error.append(sample_dir + sample_genre + '/' + f)\n",
    "        pass"
   ]
  },
  {
   "cell_type": "code",
   "execution_count": 136,
   "metadata": {},
   "outputs": [
    {
     "name": "stderr",
     "output_type": "stream",
     "text": [
      "/Users/haeeunkim/anaconda3/lib/python3.7/site-packages/ipykernel_launcher.py:14: SettingWithCopyWarning: \n",
      "A value is trying to be set on a copy of a slice from a DataFrame\n",
      "\n",
      "See the caveats in the documentation: http://pandas.pydata.org/pandas-docs/stable/user_guide/indexing.html#returning-a-view-versus-a-copy\n",
      "  \n"
     ]
    },
    {
     "name": "stdout",
     "output_type": "stream",
     "text": [
      "File not read: 0\n"
     ]
    }
   ],
   "source": [
    "error = []\n",
    "\n",
    "summary = {'title' :[], 'MC':[],'tempo':[],'meter':[], 'syl_onsets':[], 'syllabic_rate':[], 'rhyme':[], 'genre':[], \\\n",
    "           'syl_onset_mean':[], 'measure':[], 'breakpoints':[], 'lang': [], 'phrase_syl':[], 'phrase_beat':[]}\n",
    "\n",
    "\n",
    "for f in oldschool_files:\n",
    "    summarize_humdrum(anglophone_dir, 'oldschool', f, summary)\n",
    "\n",
    "for f in gangsta_files:\n",
    "    summarize_humdrum(anglophone_dir, 'gangsta', f, summary)\n",
    "    \n",
    "for f in francophone_files:\n",
    "    summarize_humdrum(francophone_dir, 'oldschool', f, summary, metadata=False, pickup_control=False)\n",
    "    \n",
    "    \n",
    "print('File not read: {0}'.format(len(error)))"
   ]
  },
  {
   "cell_type": "code",
   "execution_count": 130,
   "metadata": {},
   "outputs": [],
   "source": [
    "#sample_path = anglophone_dir + 'oldschool/' + oldschool_files[3]\n",
    "#sample = HumdrumSummary(sample_path)"
   ]
  },
  {
   "cell_type": "code",
   "execution_count": null,
   "metadata": {},
   "outputs": [],
   "source": []
  },
  {
   "cell_type": "code",
   "execution_count": null,
   "metadata": {},
   "outputs": [],
   "source": []
  },
  {
   "cell_type": "code",
   "execution_count": 139,
   "metadata": {},
   "outputs": [],
   "source": [
    "summary_df = pd.DataFrame(summary)\n",
    "en_os_df = summary_df[(summary_df.lang == 'anglophone') & (summary_df.genre == 'oldschool')]\n",
    "en_gs_df = summary_df[(summary_df.lang == 'anglophone') & (summary_df.genre == 'gangsta')]\n",
    "fr_gs_df = summary_df[(summary_df.lang == 'francophone') & (summary_df.genre == 'oldschool')]\n",
    "\n",
    "df_dict = {'anglo/oldschool':en_os_df, 'anglo/gangsta':en_gs_df, 'franc/oldschool':fr_gs_df}"
   ]
  },
  {
   "cell_type": "code",
   "execution_count": null,
   "metadata": {},
   "outputs": [],
   "source": []
  },
  {
   "cell_type": "code",
   "execution_count": null,
   "metadata": {},
   "outputs": [],
   "source": []
  },
  {
   "cell_type": "code",
   "execution_count": null,
   "metadata": {},
   "outputs": [],
   "source": []
  },
  {
   "cell_type": "code",
   "execution_count": null,
   "metadata": {},
   "outputs": [],
   "source": []
  },
  {
   "cell_type": "code",
   "execution_count": 140,
   "metadata": {},
   "outputs": [],
   "source": [
    "# general analysis:\n",
    "# syllabic rate, tempo,"
   ]
  },
  {
   "cell_type": "code",
   "execution_count": 150,
   "metadata": {},
   "outputs": [
    {
     "name": "stdout",
     "output_type": "stream",
     "text": [
      "\n",
      "distribution of syllabic_rate on boxplot\n"
     ]
    },
    {
     "data": {
      "image/png": "[encoded data removed]",
      "text/plain": [
       "<Figure size 432x288 with 1 Axes>"
      ]
     },
     "metadata": {
      "needs_background": "light"
     },
     "output_type": "display_data"
    },
    {
     "name": "stdout",
     "output_type": "stream",
     "text": [
      "\n",
      "distribution of tempo on boxplot\n"
     ]
    },
    {
     "data": {
      "image/png": "[encoded data removed]",
      "text/plain": [
       "<Figure size 432x288 with 1 Axes>"
      ]
     },
     "metadata": {
      "needs_background": "light"
     },
     "output_type": "display_data"
    }
   ],
   "source": [
    "features = ['syllabic_rate','tempo']\n",
    "for feature in features: \n",
    "    print('\\ndistribution of {0} on boxplot'.format(feature))\n",
    "\n",
    "    \n",
    "    df_list = list(df_dict.items())[:-1]\n",
    "    labels = list(df_dict.keys())[:-1]\n",
    "    for i in range(len(df_list)):\n",
    "#        en = np.array([])\n",
    "#        plt.boxplot(df_list[i][1][feature], positions=[i])        \n",
    "        plt.hist(df_list[i][1][feature], bins='auto',alpha=0.5, density=True)                \n",
    "        \n",
    "\n",
    " #   plt.xticks(range(0,3), labels, rotation = 0)\n",
    "    plt.show()"
   ]
  },
  {
   "cell_type": "code",
   "execution_count": null,
   "metadata": {},
   "outputs": [],
   "source": []
  },
  {
   "cell_type": "code",
   "execution_count": null,
   "metadata": {},
   "outputs": [],
   "source": []
  },
  {
   "cell_type": "raw",
   "metadata": {},
   "source": [
    "feature"
   ]
  },
  {
   "cell_type": "code",
   "execution_count": 146,
   "metadata": {},
   "outputs": [
    {
     "data": {
      "image/png": "[encoded data removed]",
      "text/plain": [
       "<Figure size 432x288 with 1 Axes>"
      ]
     },
     "metadata": {
      "needs_background": "light"
     },
     "output_type": "display_data"
    },
    {
     "data": {
      "image/png": "[encoded data removed]",
      "text/plain": [
       "<Figure size 432x288 with 1 Axes>"
      ]
     },
     "metadata": {
      "needs_background": "light"
     },
     "output_type": "display_data"
    }
   ],
   "source": [
    "features =  ['phrase_syl', 'phrase_beat']\n",
    "\n",
    "for feature in features:\n",
    "    df_list = list(df_dict.items())#[:-1]\n",
    "    labels = list(df_dict.keys())#[:-1]\n",
    "    for i in range(len(df_list)):\n",
    "       # plt.boxplot(pd.concat(list(df_list[i][1][feature])), positions=[i])        \n",
    "        plt.hist(pd.concat(list(df_list[i][1][feature])), bins='auto',alpha=0.5, density=True)        \n",
    "\n",
    "\n",
    "#    plt.xticks(range(0,3), labels, rotation = 0)\n",
    "    plt.show()"
   ]
  },
  {
   "cell_type": "code",
   "execution_count": 101,
   "metadata": {},
   "outputs": [
    {
     "name": "stdout",
     "output_type": "stream",
     "text": [
      "\n",
      "entropy distribution of breakpoints on boxplot\n"
     ]
    },
    {
     "data": {
      "image/png": "[encoded data removed]",
      "text/plain": [
       "<Figure size 432x288 with 1 Axes>"
      ]
     },
     "metadata": {
      "needs_background": "light"
     },
     "output_type": "display_data"
    },
    {
     "name": "stdout",
     "output_type": "stream",
     "text": [
      "\n",
      "entropy distribution of rhyme on boxplot\n"
     ]
    },
    {
     "data": {
      "image/png": "[encoded data removed]",
      "text/plain": [
       "<Figure size 432x288 with 1 Axes>"
      ]
     },
     "metadata": {
      "needs_background": "light"
     },
     "output_type": "display_data"
    }
   ],
   "source": [
    "features = ['breakpoints','rhyme']\n",
    "\n",
    "\n",
    "\n",
    "df_list\n",
    "for feature in features: \n",
    "    print('\\nentropy distribution of {0} on boxplot'.format(feature))\n",
    "#    fig = plt.figure()\n",
    "#    ax = fig.add_subplot(111)\n",
    "    df_list = list(df_dict.items())#[:-1]\n",
    "    labels = list(df_dict.keys())#[:-1]\n",
    "    for i in range(len(df_list)):\n",
    "        en = np.array([])\n",
    "        #        ax.hist(en, alpha=0.5, label=d[0], bins='auto')\n",
    "        plt.boxplot(df_list[i][1][feature].apply(lambda x: entropy(x)), positions=[i])        \n",
    "        \n",
    "        \n",
    "\n",
    "    plt.xticks(range(0,len(labels)), labels, rotation = 0)\n",
    "    plt.show()"
   ]
  },
  {
   "cell_type": "code",
   "execution_count": null,
   "metadata": {},
   "outputs": [],
   "source": []
  },
  {
   "cell_type": "markdown",
   "metadata": {},
   "source": [
    "## 4. Discussions and interpretaions\n",
    "\n",
    "- n-gram markov analysis \n",
    "- entropy \n",
    "- distribution of IOI within phrase\n",
    "- distribution of IOI within measure\n",
    "- entropy of metric position of rhyme\n",
    "- entropy of metric position of start/end point of phrase"
   ]
  },
  {
   "cell_type": "code",
   "execution_count": 103,
   "metadata": {},
   "outputs": [],
   "source": []
  },
  {
   "cell_type": "code",
   "execution_count": null,
   "metadata": {},
   "outputs": [],
   "source": []
  },
  {
   "cell_type": "code",
   "execution_count": null,
   "metadata": {},
   "outputs": [],
   "source": []
  },
  {
   "cell_type": "code",
   "execution_count": null,
   "metadata": {},
   "outputs": [],
   "source": []
  },
  {
   "cell_type": "code",
   "execution_count": null,
   "metadata": {},
   "outputs": [],
   "source": []
  },
  {
   "cell_type": "code",
   "execution_count": null,
   "metadata": {},
   "outputs": [],
   "source": []
  },
  {
   "cell_type": "code",
   "execution_count": null,
   "metadata": {},
   "outputs": [],
   "source": []
  }
 ],
 "metadata": {
  "kernelspec": {
   "display_name": "Python 3",
   "language": "python",
   "name": "python3"
  },
  "language_info": {
   "codemirror_mode": {
    "name": "ipython",
    "version": 3
   },
   "file_extension": ".py",
   "mimetype": "text/x-python",
   "name": "python",
   "nbconvert_exporter": "python",
   "pygments_lexer": "ipython3",
   "version": "3.7.4"
  }
 },
 "nbformat": 4,
 "nbformat_minor": 4
}
